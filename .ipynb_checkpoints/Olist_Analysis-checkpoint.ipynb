{
 "cells": [
  {
   "cell_type": "markdown",
   "id": "4fac47f6",
   "metadata": {},
   "source": [
    "## **How to increase customer satisfaction (so as to increase profit margin) while maintaining a healthy order volume?** ❓"
   ]
  },
  {
   "cell_type": "markdown",
   "id": "03cb1836",
   "metadata": {},
   "source": [
    "Olist is a leading e-commerce service that connects merchants to main marketplaces in Brazil. They provide a wide range of offers including inventory management, dealing with reviews and customer contacts to logistic services.\n",
    "\n",
    "Olist charges sellers a monthly fee. This fee is progressive with the volume of orders."
   ]
  },
  {
   "cell_type": "markdown",
   "id": "24d4703d",
   "metadata": {},
   "source": [
    "The dataset has information of 100k orders from 2016 to 2018 made at multiple marketplaces in Brazil. Its features allows viewing an order from multiple dimensions: from order status, price, payment and freight performance to customer location, product attributes and finally reviews written by customers.\n",
    "\n",
    "Kaggle dataset = https://www.kaggle.com/datasets/olistbr/brazilian-ecommerce"
   ]
  },
  {
   "cell_type": "markdown",
   "id": "834c2d21",
   "metadata": {},
   "source": [
    "### Data Preparation"
   ]
  },
  {
   "cell_type": "markdown",
   "id": "e671edfb",
   "metadata": {},
   "source": [
    "#### Imports"
   ]
  },
  {
   "cell_type": "code",
   "execution_count": 1,
   "id": "a4de666f",
   "metadata": {},
   "outputs": [],
   "source": [
    "from matplotlib import pyplot as plt\n",
    "import seaborn as sns\n",
    "\n",
    "import numpy as np\n",
    "\n",
    "import plotly\n",
    "import plotly.express as px"
   ]
  },
  {
   "cell_type": "code",
   "execution_count": 2,
   "id": "753a4136",
   "metadata": {},
   "outputs": [],
   "source": [
    "import warnings\n",
    "warnings.filterwarnings('ignore')"
   ]
  },
  {
   "cell_type": "markdown",
   "id": "9e452ff5",
   "metadata": {},
   "source": [
    "#### Load Data"
   ]
  },
  {
   "cell_type": "code",
   "execution_count": 3,
   "id": "5a6a6906",
   "metadata": {},
   "outputs": [
    {
     "data": {
      "text/html": [
       "<div>\n",
       "<style scoped>\n",
       "    .dataframe tbody tr th:only-of-type {\n",
       "        vertical-align: middle;\n",
       "    }\n",
       "\n",
       "    .dataframe tbody tr th {\n",
       "        vertical-align: top;\n",
       "    }\n",
       "\n",
       "    .dataframe thead th {\n",
       "        text-align: right;\n",
       "    }\n",
       "</style>\n",
       "<table border=\"1\" class=\"dataframe\">\n",
       "  <thead>\n",
       "    <tr style=\"text-align: right;\">\n",
       "      <th></th>\n",
       "      <th>seller_id</th>\n",
       "      <th>seller_city</th>\n",
       "      <th>seller_state</th>\n",
       "      <th>delay_to_carrier</th>\n",
       "      <th>wait_time</th>\n",
       "      <th>date_first_sale</th>\n",
       "      <th>date_last_sale</th>\n",
       "      <th>months_on_olist</th>\n",
       "      <th>n_orders</th>\n",
       "      <th>quantity</th>\n",
       "      <th>quantity_per_order</th>\n",
       "      <th>sales</th>\n",
       "      <th>share_of_one_stars</th>\n",
       "      <th>share_of_five_stars</th>\n",
       "      <th>review_score</th>\n",
       "      <th>reputation_cost</th>\n",
       "      <th>revenue</th>\n",
       "      <th>profit</th>\n",
       "    </tr>\n",
       "  </thead>\n",
       "  <tbody>\n",
       "    <tr>\n",
       "      <th>0</th>\n",
       "      <td>3442f8959a84dea7ee197c632cb2df15</td>\n",
       "      <td>campinas</td>\n",
       "      <td>SP</td>\n",
       "      <td>0.0</td>\n",
       "      <td>13.018588</td>\n",
       "      <td>2017-05-05 16:25:11</td>\n",
       "      <td>2017-08-30 12:50:19</td>\n",
       "      <td>4.0</td>\n",
       "      <td>3</td>\n",
       "      <td>3</td>\n",
       "      <td>1.000</td>\n",
       "      <td>218.70</td>\n",
       "      <td>0.333333</td>\n",
       "      <td>0.333333</td>\n",
       "      <td>3.00</td>\n",
       "      <td>140</td>\n",
       "      <td>341.870</td>\n",
       "      <td>201.870</td>\n",
       "    </tr>\n",
       "    <tr>\n",
       "      <th>1</th>\n",
       "      <td>d1b65fc7debc3361ea86b5f14c68d2e2</td>\n",
       "      <td>mogi guacu</td>\n",
       "      <td>SP</td>\n",
       "      <td>0.0</td>\n",
       "      <td>9.065716</td>\n",
       "      <td>2017-03-29 02:10:34</td>\n",
       "      <td>2018-06-06 20:15:21</td>\n",
       "      <td>14.0</td>\n",
       "      <td>40</td>\n",
       "      <td>41</td>\n",
       "      <td>1.025</td>\n",
       "      <td>11703.07</td>\n",
       "      <td>0.050000</td>\n",
       "      <td>0.725000</td>\n",
       "      <td>4.55</td>\n",
       "      <td>240</td>\n",
       "      <td>2290.307</td>\n",
       "      <td>2050.307</td>\n",
       "    </tr>\n",
       "  </tbody>\n",
       "</table>\n",
       "</div>"
      ],
      "text/plain": [
       "                          seller_id seller_city seller_state  \\\n",
       "0  3442f8959a84dea7ee197c632cb2df15    campinas           SP   \n",
       "1  d1b65fc7debc3361ea86b5f14c68d2e2  mogi guacu           SP   \n",
       "\n",
       "   delay_to_carrier  wait_time     date_first_sale      date_last_sale  \\\n",
       "0               0.0  13.018588 2017-05-05 16:25:11 2017-08-30 12:50:19   \n",
       "1               0.0   9.065716 2017-03-29 02:10:34 2018-06-06 20:15:21   \n",
       "\n",
       "   months_on_olist  n_orders  quantity  quantity_per_order     sales  \\\n",
       "0              4.0         3         3               1.000    218.70   \n",
       "1             14.0        40        41               1.025  11703.07   \n",
       "\n",
       "   share_of_one_stars  share_of_five_stars  review_score  reputation_cost  \\\n",
       "0            0.333333             0.333333          3.00              140   \n",
       "1            0.050000             0.725000          4.55              240   \n",
       "\n",
       "    revenue    profit  \n",
       "0   341.870   201.870  \n",
       "1  2290.307  2050.307  "
      ]
     },
     "execution_count": 3,
     "metadata": {},
     "output_type": "execute_result"
    }
   ],
   "source": [
    "#load data in \n",
    "from package.seller import Seller\n",
    "seller = Seller()\n",
    "sellers = seller.get_training_data()\n",
    "sellers.head(2)"
   ]
  },
  {
   "cell_type": "code",
   "execution_count": 4,
   "id": "83534d66",
   "metadata": {},
   "outputs": [],
   "source": [
    "from package.order import Order\n",
    "orders = Order().get_training_data(with_distance_seller_customer=False)"
   ]
  },
  {
   "cell_type": "code",
   "execution_count": 5,
   "id": "ef678af9",
   "metadata": {},
   "outputs": [
    {
     "data": {
      "text/html": [
       "<div>\n",
       "<style scoped>\n",
       "    .dataframe tbody tr th:only-of-type {\n",
       "        vertical-align: middle;\n",
       "    }\n",
       "\n",
       "    .dataframe tbody tr th {\n",
       "        vertical-align: top;\n",
       "    }\n",
       "\n",
       "    .dataframe thead th {\n",
       "        text-align: right;\n",
       "    }\n",
       "</style>\n",
       "<table border=\"1\" class=\"dataframe\">\n",
       "  <thead>\n",
       "    <tr style=\"text-align: right;\">\n",
       "      <th></th>\n",
       "      <th>order_id</th>\n",
       "      <th>wait_time</th>\n",
       "      <th>expected_wait_time</th>\n",
       "      <th>delay_vs_expected</th>\n",
       "      <th>order_status</th>\n",
       "      <th>dim_is_five_star</th>\n",
       "      <th>dim_is_one_star</th>\n",
       "      <th>review_score</th>\n",
       "      <th>number_of_products</th>\n",
       "      <th>number_of_sellers</th>\n",
       "      <th>price</th>\n",
       "      <th>freight_value</th>\n",
       "    </tr>\n",
       "  </thead>\n",
       "  <tbody>\n",
       "    <tr>\n",
       "      <th>0</th>\n",
       "      <td>e481f51cbdc54678b7cc49136f2d6af7</td>\n",
       "      <td>8.436574</td>\n",
       "      <td>15.544063</td>\n",
       "      <td>0.0</td>\n",
       "      <td>delivered</td>\n",
       "      <td>0</td>\n",
       "      <td>0</td>\n",
       "      <td>4</td>\n",
       "      <td>1</td>\n",
       "      <td>1</td>\n",
       "      <td>29.99</td>\n",
       "      <td>8.72</td>\n",
       "    </tr>\n",
       "    <tr>\n",
       "      <th>1</th>\n",
       "      <td>53cdb2fc8bc7dce0b6741e2150273451</td>\n",
       "      <td>13.782037</td>\n",
       "      <td>19.137766</td>\n",
       "      <td>0.0</td>\n",
       "      <td>delivered</td>\n",
       "      <td>0</td>\n",
       "      <td>0</td>\n",
       "      <td>4</td>\n",
       "      <td>1</td>\n",
       "      <td>1</td>\n",
       "      <td>118.70</td>\n",
       "      <td>22.76</td>\n",
       "    </tr>\n",
       "    <tr>\n",
       "      <th>2</th>\n",
       "      <td>47770eb9100c2d0c44946d9cf07ec65d</td>\n",
       "      <td>9.394213</td>\n",
       "      <td>26.639711</td>\n",
       "      <td>0.0</td>\n",
       "      <td>delivered</td>\n",
       "      <td>1</td>\n",
       "      <td>0</td>\n",
       "      <td>5</td>\n",
       "      <td>1</td>\n",
       "      <td>1</td>\n",
       "      <td>159.90</td>\n",
       "      <td>19.22</td>\n",
       "    </tr>\n",
       "    <tr>\n",
       "      <th>3</th>\n",
       "      <td>949d5b44dbf5de918fe9c16f97b45f8a</td>\n",
       "      <td>13.208750</td>\n",
       "      <td>26.188819</td>\n",
       "      <td>0.0</td>\n",
       "      <td>delivered</td>\n",
       "      <td>1</td>\n",
       "      <td>0</td>\n",
       "      <td>5</td>\n",
       "      <td>1</td>\n",
       "      <td>1</td>\n",
       "      <td>45.00</td>\n",
       "      <td>27.20</td>\n",
       "    </tr>\n",
       "    <tr>\n",
       "      <th>4</th>\n",
       "      <td>ad21c59c0840e6cb83a9ceb5573f8159</td>\n",
       "      <td>2.873877</td>\n",
       "      <td>12.112049</td>\n",
       "      <td>0.0</td>\n",
       "      <td>delivered</td>\n",
       "      <td>1</td>\n",
       "      <td>0</td>\n",
       "      <td>5</td>\n",
       "      <td>1</td>\n",
       "      <td>1</td>\n",
       "      <td>19.90</td>\n",
       "      <td>8.72</td>\n",
       "    </tr>\n",
       "  </tbody>\n",
       "</table>\n",
       "</div>"
      ],
      "text/plain": [
       "                           order_id  wait_time  expected_wait_time  \\\n",
       "0  e481f51cbdc54678b7cc49136f2d6af7   8.436574           15.544063   \n",
       "1  53cdb2fc8bc7dce0b6741e2150273451  13.782037           19.137766   \n",
       "2  47770eb9100c2d0c44946d9cf07ec65d   9.394213           26.639711   \n",
       "3  949d5b44dbf5de918fe9c16f97b45f8a  13.208750           26.188819   \n",
       "4  ad21c59c0840e6cb83a9ceb5573f8159   2.873877           12.112049   \n",
       "\n",
       "   delay_vs_expected order_status  dim_is_five_star  dim_is_one_star  \\\n",
       "0                0.0    delivered                 0                0   \n",
       "1                0.0    delivered                 0                0   \n",
       "2                0.0    delivered                 1                0   \n",
       "3                0.0    delivered                 1                0   \n",
       "4                0.0    delivered                 1                0   \n",
       "\n",
       "   review_score  number_of_products  number_of_sellers   price  freight_value  \n",
       "0             4                   1                  1   29.99           8.72  \n",
       "1             4                   1                  1  118.70          22.76  \n",
       "2             5                   1                  1  159.90          19.22  \n",
       "3             5                   1                  1   45.00          27.20  \n",
       "4             5                   1                  1   19.90           8.72  "
      ]
     },
     "execution_count": 5,
     "metadata": {},
     "output_type": "execute_result"
    }
   ],
   "source": [
    "orders.head()"
   ]
  },
  {
   "cell_type": "markdown",
   "id": "e4386fc0",
   "metadata": {},
   "source": [
    "#### Costs and Revenue"
   ]
  },
  {
   "cell_type": "markdown",
   "id": "e6d785d1",
   "metadata": {},
   "source": [
    "**Revenues**  \n",
    "**Sales fees:** Olist takes a **10% cut** on the product price (excl. freight) of each order delivered  \n",
    "**Subscription fees:** Olist charges **80 BRL by month** per seller\n",
    "\n",
    "**Costs**\n",
    "**Reputation costs** *estimated* per order with bad reviews (<= 3 stars)  \n",
    "\n",
    "💡 In the long term, bad customer experience has business implications: low repeat rate, immediate customer support cost, refunds or unfavorable word of mouth communication. We will assume that we have an estimate measure of the monetary cost for each bad review:\n",
    "```python\n",
    "# review_score: cost(BRL)\n",
    "{'1 star': 100\n",
    "'2 stars': 50\n",
    "'3 stars': 40\n",
    "'4 stars': 0\n",
    "'5 stars': 0}\n",
    "```\n",
    "\n",
    "**IT costs:** Olist's **total cumulated IT Costs** scale with the square root of the total number of sellers that has ever join the platform, as well as the square root of the total cumulated number of products that was ever sold.  \n",
    "\n",
    "$IT\\_costs = \\alpha * \\sqrt{n\\_sellers} + \\beta * \\sqrt{n\\_products}$  \n",
    "Olist's data team gave us the following values for these scaling parameters:\n",
    "- $\\alpha = 3157.27$\n",
    "- $\\beta = 978.23$\n",
    "\n",
    "💡 Both number of sellers to manage and sales transaction are costly for IT systems.  \n",
    "💡 Yet square roots reflect scale-effects: IT-system are often more efficient as they grow bigger.  \n",
    "💡 Alpha > Beta means that \"Olist has a lower IT Cost with few sellers selling a lot of products rather than the opposite  \n",
    "- with **1000 sellers** and a total of **100 products** sold, the total IT cost accumulates to 109,624 BRL\n",
    "- with **100 sellers** and a total of **1000 products** sold, the total IT cost accumulates to 62,507 BRL\n",
    "\n",
    "Finally, The IT department also told you that since the birth of the marketplace, cumulated IT costs have amounted to **500,000 BRL**."
   ]
  },
  {
   "cell_type": "markdown",
   "id": "ecab1177",
   "metadata": {},
   "source": [
    "In order to calculate the profit, we need to first calculate the revenue and costs.\n",
    "\n",
    "**Revenue** is made up of sales fees and subscription fees."
   ]
  },
  {
   "cell_type": "code",
   "execution_count": 6,
   "id": "6ee5b429",
   "metadata": {},
   "outputs": [
    {
     "name": "stdout",
     "output_type": "stream",
     "text": [
      "\n",
      "Revenues: 2785818.44 BRL\n",
      "- Sales: 1355578.44 BRL\n",
      "- Subscriptions: 1430240.00 BRL\n",
      "\n"
     ]
    }
   ],
   "source": [
    "# Revenues\n",
    "revenues_sales = sellers.sales.sum() * 0.1\n",
    "revenues_subscription = sellers.months_on_olist.sum() * 80\n",
    "\n",
    "revenues_total = revenues_sales + revenues_subscription\n",
    "\n",
    "print(\n",
    "    f'''\n",
    "Revenues: {revenues_total:.2f} BRL\n",
    "- Sales: {revenues_sales:.2f} BRL\n",
    "- Subscriptions: {revenues_subscription:.2f} BRL\n",
    "''')"
   ]
  },
  {
   "cell_type": "markdown",
   "id": "a4a3bdc9",
   "metadata": {},
   "source": [
    "**Costs** consist of reputation costs + IT costs"
   ]
  },
  {
   "cell_type": "code",
   "execution_count": 7,
   "id": "163a9f17",
   "metadata": {},
   "outputs": [],
   "source": [
    "#Costs\n",
    "reputation_cost = sellers.reputation_cost.sum()"
   ]
  },
  {
   "cell_type": "code",
   "execution_count": 8,
   "id": "65224aaa",
   "metadata": {},
   "outputs": [
    {
     "name": "stdout",
     "output_type": "stream",
     "text": [
      "\n",
      "Costs: 2118210.00 BRL\n",
      "- Reviews: 1618210.00 BRL\n",
      "- IT: 500000.00 BRL\n",
      "\n"
     ]
    }
   ],
   "source": [
    "costs_it = 500_000\n",
    "\n",
    "costs_total = reputation_cost + costs_it\n",
    "\n",
    "print(\n",
    "    f'''\n",
    "Costs: {costs_total:.2f} BRL\n",
    "- Reviews: {reputation_cost:.2f} BRL\n",
    "- IT: {costs_it:.2f} BRL\n",
    "''')"
   ]
  },
  {
   "cell_type": "markdown",
   "id": "7ee6152b",
   "metadata": {},
   "source": [
    "#### Profit"
   ]
  },
  {
   "cell_type": "code",
   "execution_count": 9,
   "id": "152f58e4",
   "metadata": {},
   "outputs": [
    {
     "data": {
      "text/plain": [
       "1167608.4440000001"
      ]
     },
     "execution_count": 9,
     "metadata": {},
     "output_type": "execute_result"
    }
   ],
   "source": [
    "# Gross Profit, before IT costs\n",
    "profits_gross = revenues_total - reputation_cost\n",
    "\n",
    "profits_gross"
   ]
  },
  {
   "cell_type": "code",
   "execution_count": 10,
   "id": "21a91b8d",
   "metadata": {},
   "outputs": [
    {
     "data": {
      "text/plain": [
       "667608.4440000001"
      ]
     },
     "execution_count": 10,
     "metadata": {},
     "output_type": "execute_result"
    }
   ],
   "source": [
    "# Gross Profit, after IT costs\n",
    "profits_net = profits_gross - costs_it\n",
    "\n",
    "profits_net"
   ]
  },
  {
   "cell_type": "markdown",
   "id": "38041c31",
   "metadata": {},
   "source": [
    "### Analysis"
   ]
  },
  {
   "cell_type": "markdown",
   "id": "8e0a0d67",
   "metadata": {},
   "source": [
    "#### Review Score"
   ]
  },
  {
   "cell_type": "code",
   "execution_count": 11,
   "id": "20e3c7be",
   "metadata": {},
   "outputs": [
    {
     "data": {
      "text/plain": [
       "5    0.577763\n",
       "4    0.192917\n",
       "1    0.115133\n",
       "3    0.082430\n",
       "2    0.031756\n",
       "Name: review_score, dtype: float64"
      ]
     },
     "execution_count": 11,
     "metadata": {},
     "output_type": "execute_result"
    }
   ],
   "source": [
    "Seller().data[\"order_reviews\"].review_score.value_counts(normalize = True)"
   ]
  },
  {
   "cell_type": "markdown",
   "id": "d75e487a",
   "metadata": {},
   "source": [
    "We can observe that there are approx. 23% of review scores 3 or below."
   ]
  },
  {
   "cell_type": "code",
   "execution_count": 12,
   "id": "acc14af2",
   "metadata": {
    "scrolled": true
   },
   "outputs": [
    {
     "data": {
      "image/png": "[encoded data removed]",
      "text/plain": [
       "<Figure size 640x480 with 1 Axes>"
      ]
     },
     "metadata": {},
     "output_type": "display_data"
    }
   ],
   "source": [
    "Seller().data[\"order_reviews\"].review_score.value_counts(normalize=True).plot(kind='barh');"
   ]
  },
  {
   "cell_type": "markdown",
   "id": "50be5524",
   "metadata": {},
   "source": [
    "#### Feature Analysis"
   ]
  },
  {
   "cell_type": "code",
   "execution_count": 13,
   "id": "967ea399",
   "metadata": {},
   "outputs": [
    {
     "data": {
      "text/html": [
       "<div>\n",
       "<style scoped>\n",
       "    .dataframe tbody tr th:only-of-type {\n",
       "        vertical-align: middle;\n",
       "    }\n",
       "\n",
       "    .dataframe tbody tr th {\n",
       "        vertical-align: top;\n",
       "    }\n",
       "\n",
       "    .dataframe thead th {\n",
       "        text-align: right;\n",
       "    }\n",
       "</style>\n",
       "<table border=\"1\" class=\"dataframe\">\n",
       "  <thead>\n",
       "    <tr style=\"text-align: right;\">\n",
       "      <th></th>\n",
       "      <th>wait_time</th>\n",
       "      <th>expected_wait_time</th>\n",
       "      <th>delay_vs_expected</th>\n",
       "      <th>dim_is_five_star</th>\n",
       "      <th>dim_is_one_star</th>\n",
       "      <th>review_score</th>\n",
       "      <th>number_of_products</th>\n",
       "      <th>number_of_sellers</th>\n",
       "      <th>price</th>\n",
       "      <th>freight_value</th>\n",
       "    </tr>\n",
       "  </thead>\n",
       "  <tbody>\n",
       "    <tr>\n",
       "      <th>count</th>\n",
       "      <td>96353.000000</td>\n",
       "      <td>96353.000000</td>\n",
       "      <td>96353.000000</td>\n",
       "      <td>96353.000000</td>\n",
       "      <td>96353.000000</td>\n",
       "      <td>96353.000000</td>\n",
       "      <td>96353.000000</td>\n",
       "      <td>96353.000000</td>\n",
       "      <td>96353.000000</td>\n",
       "      <td>96353.000000</td>\n",
       "    </tr>\n",
       "    <tr>\n",
       "      <th>mean</th>\n",
       "      <td>12.522869</td>\n",
       "      <td>23.741881</td>\n",
       "      <td>-0.754903</td>\n",
       "      <td>0.592187</td>\n",
       "      <td>0.097610</td>\n",
       "      <td>4.155688</td>\n",
       "      <td>1.141687</td>\n",
       "      <td>1.013918</td>\n",
       "      <td>136.654623</td>\n",
       "      <td>22.757810</td>\n",
       "    </tr>\n",
       "    <tr>\n",
       "      <th>std</th>\n",
       "      <td>9.457183</td>\n",
       "      <td>8.759019</td>\n",
       "      <td>4.656481</td>\n",
       "      <td>0.491431</td>\n",
       "      <td>0.296788</td>\n",
       "      <td>1.284979</td>\n",
       "      <td>0.535362</td>\n",
       "      <td>0.123616</td>\n",
       "      <td>207.444085</td>\n",
       "      <td>21.496018</td>\n",
       "    </tr>\n",
       "    <tr>\n",
       "      <th>min</th>\n",
       "      <td>0.533414</td>\n",
       "      <td>2.008009</td>\n",
       "      <td>-188.975081</td>\n",
       "      <td>0.000000</td>\n",
       "      <td>0.000000</td>\n",
       "      <td>1.000000</td>\n",
       "      <td>1.000000</td>\n",
       "      <td>1.000000</td>\n",
       "      <td>0.850000</td>\n",
       "      <td>0.000000</td>\n",
       "    </tr>\n",
       "    <tr>\n",
       "      <th>25%</th>\n",
       "      <td>6.763530</td>\n",
       "      <td>18.335243</td>\n",
       "      <td>0.000000</td>\n",
       "      <td>0.000000</td>\n",
       "      <td>0.000000</td>\n",
       "      <td>4.000000</td>\n",
       "      <td>1.000000</td>\n",
       "      <td>1.000000</td>\n",
       "      <td>45.900000</td>\n",
       "      <td>13.840000</td>\n",
       "    </tr>\n",
       "    <tr>\n",
       "      <th>50%</th>\n",
       "      <td>10.211944</td>\n",
       "      <td>23.233113</td>\n",
       "      <td>0.000000</td>\n",
       "      <td>1.000000</td>\n",
       "      <td>0.000000</td>\n",
       "      <td>5.000000</td>\n",
       "      <td>1.000000</td>\n",
       "      <td>1.000000</td>\n",
       "      <td>86.000000</td>\n",
       "      <td>17.160000</td>\n",
       "    </tr>\n",
       "    <tr>\n",
       "      <th>75%</th>\n",
       "      <td>15.685278</td>\n",
       "      <td>28.411979</td>\n",
       "      <td>0.000000</td>\n",
       "      <td>1.000000</td>\n",
       "      <td>0.000000</td>\n",
       "      <td>5.000000</td>\n",
       "      <td>1.000000</td>\n",
       "      <td>1.000000</td>\n",
       "      <td>149.900000</td>\n",
       "      <td>23.990000</td>\n",
       "    </tr>\n",
       "    <tr>\n",
       "      <th>max</th>\n",
       "      <td>208.351759</td>\n",
       "      <td>155.135463</td>\n",
       "      <td>0.000000</td>\n",
       "      <td>1.000000</td>\n",
       "      <td>1.000000</td>\n",
       "      <td>5.000000</td>\n",
       "      <td>21.000000</td>\n",
       "      <td>5.000000</td>\n",
       "      <td>13440.000000</td>\n",
       "      <td>1794.960000</td>\n",
       "    </tr>\n",
       "  </tbody>\n",
       "</table>\n",
       "</div>"
      ],
      "text/plain": [
       "          wait_time  expected_wait_time  delay_vs_expected  dim_is_five_star  \\\n",
       "count  96353.000000        96353.000000       96353.000000      96353.000000   \n",
       "mean      12.522869           23.741881          -0.754903          0.592187   \n",
       "std        9.457183            8.759019           4.656481          0.491431   \n",
       "min        0.533414            2.008009        -188.975081          0.000000   \n",
       "25%        6.763530           18.335243           0.000000          0.000000   \n",
       "50%       10.211944           23.233113           0.000000          1.000000   \n",
       "75%       15.685278           28.411979           0.000000          1.000000   \n",
       "max      208.351759          155.135463           0.000000          1.000000   \n",
       "\n",
       "       dim_is_one_star  review_score  number_of_products  number_of_sellers  \\\n",
       "count     96353.000000  96353.000000        96353.000000       96353.000000   \n",
       "mean          0.097610      4.155688            1.141687           1.013918   \n",
       "std           0.296788      1.284979            0.535362           0.123616   \n",
       "min           0.000000      1.000000            1.000000           1.000000   \n",
       "25%           0.000000      4.000000            1.000000           1.000000   \n",
       "50%           0.000000      5.000000            1.000000           1.000000   \n",
       "75%           0.000000      5.000000            1.000000           1.000000   \n",
       "max           1.000000      5.000000           21.000000           5.000000   \n",
       "\n",
       "              price  freight_value  \n",
       "count  96353.000000   96353.000000  \n",
       "mean     136.654623      22.757810  \n",
       "std      207.444085      21.496018  \n",
       "min        0.850000       0.000000  \n",
       "25%       45.900000      13.840000  \n",
       "50%       86.000000      17.160000  \n",
       "75%      149.900000      23.990000  \n",
       "max    13440.000000    1794.960000  "
      ]
     },
     "execution_count": 13,
     "metadata": {},
     "output_type": "execute_result"
    }
   ],
   "source": [
    "orders.describe()"
   ]
  },
  {
   "cell_type": "code",
   "execution_count": 14,
   "id": "230d5047",
   "metadata": {},
   "outputs": [
    {
     "name": "stdout",
     "output_type": "stream",
     "text": [
      "<class 'pandas.core.frame.DataFrame'>\n",
      "Int64Index: 96353 entries, 0 to 96360\n",
      "Data columns (total 12 columns):\n",
      " #   Column              Non-Null Count  Dtype  \n",
      "---  ------              --------------  -----  \n",
      " 0   order_id            96353 non-null  object \n",
      " 1   wait_time           96353 non-null  float64\n",
      " 2   expected_wait_time  96353 non-null  float64\n",
      " 3   delay_vs_expected   96353 non-null  float64\n",
      " 4   order_status        96353 non-null  object \n",
      " 5   dim_is_five_star    96353 non-null  int64  \n",
      " 6   dim_is_one_star     96353 non-null  int64  \n",
      " 7   review_score        96353 non-null  int64  \n",
      " 8   number_of_products  96353 non-null  int64  \n",
      " 9   number_of_sellers   96353 non-null  int64  \n",
      " 10  price               96353 non-null  float64\n",
      " 11  freight_value       96353 non-null  float64\n",
      "dtypes: float64(5), int64(5), object(2)\n",
      "memory usage: 9.6+ MB\n"
     ]
    }
   ],
   "source": [
    "orders.info()"
   ]
  },
  {
   "cell_type": "code",
   "execution_count": 15,
   "id": "0f0e8cd7",
   "metadata": {},
   "outputs": [
    {
     "data": {
      "text/plain": [
       "<AxesSubplot:>"
      ]
     },
     "execution_count": 15,
     "metadata": {},
     "output_type": "execute_result"
    },
    {
     "data": {
      "image/png": "[encoded data removed]",
      "text/plain": [
       "<Figure size 1100x700 with 2 Axes>"
      ]
     },
     "metadata": {},
     "output_type": "display_data"
    }
   ],
   "source": [
    "# Correlation plot \n",
    "plt.figure(figsize=(11,7))\n",
    "sns.heatmap(orders.corr(), cmap='coolwarm', annot = True, annot_kws={\"size\": 12})"
   ]
  },
  {
   "cell_type": "code",
   "execution_count": 16,
   "id": "a2e1b37c",
   "metadata": {},
   "outputs": [
    {
     "data": {
      "text/plain": [
       "review_score          1.00\n",
       "dim_is_one_star       0.81\n",
       "dim_is_five_star      0.79\n",
       "wait_time             0.33\n",
       "delay_vs_expected     0.27\n",
       "number_of_products    0.12\n",
       "number_of_sellers     0.12\n",
       "freight_value         0.09\n",
       "expected_wait_time    0.05\n",
       "price                 0.03\n",
       "Name: review_score, dtype: float64"
      ]
     },
     "execution_count": 16,
     "metadata": {},
     "output_type": "execute_result"
    }
   ],
   "source": [
    "round(np.abs(orders.corr()['review_score']).sort_values(ascending = False),2)"
   ]
  },
  {
   "cell_type": "markdown",
   "id": "2491e655",
   "metadata": {},
   "source": [
    "**Findings**\n"
   ]
  },
  {
   "cell_type": "markdown",
   "id": "6f5376f8",
   "metadata": {},
   "source": [
    "As expected the most correlated features are review score related features, i.e `review_score`, `dim_is_one_star` and `dim_is_five_star`."
   ]
  },
  {
   "cell_type": "markdown",
   "id": "1527aeef",
   "metadata": {},
   "source": [
    "The two next highest correlation coefficients with respect to the `review_score` are :\n",
    "   * `wait_time` : - 34 %\n",
    "   * `delay_vs_expected` : - 27 %"
   ]
  },
  {
   "cell_type": "markdown",
   "id": "97360415",
   "metadata": {},
   "source": [
    "Closer look at these two features."
   ]
  },
  {
   "cell_type": "code",
   "execution_count": 17,
   "id": "d36a67ac",
   "metadata": {},
   "outputs": [],
   "source": [
    "sample = orders.sample(10000, random_state=42)"
   ]
  },
  {
   "cell_type": "code",
   "execution_count": 18,
   "id": "221262c9",
   "metadata": {},
   "outputs": [
    {
     "data": {
      "text/plain": [
       "(0.0, 5.987707776920748)"
      ]
     },
     "execution_count": 18,
     "metadata": {},
     "output_type": "execute_result"
    },
    {
     "data": {
      "image/png": "[encoded data removed]",
      "text/plain": [
       "<Figure size 1300x500 with 2 Axes>"
      ]
     },
     "metadata": {},
     "output_type": "display_data"
    }
   ],
   "source": [
    "plt.figure(figsize=(13,5))\n",
    "\n",
    "plt.subplot(1,2,1)\n",
    "sns.regplot(x = sample.wait_time, y= sample.review_score, y_jitter=.1)\n",
    "plt.xlim(right=70)\n",
    "plt.ylim(bottom=0)\n",
    "\n",
    "plt.subplot(1,2,2)\n",
    "sns.regplot(x = sample.delay_vs_expected, y= sample.review_score, y_jitter=.1)\n",
    "plt.xlim(right=70)\n",
    "plt.ylim(bottom=0)"
   ]
  },
  {
   "cell_type": "markdown",
   "id": "5ee48ffc",
   "metadata": {},
   "source": [
    "Broad interpretation is the longer the wait time or delay, the lower the review score."
   ]
  },
  {
   "cell_type": "markdown",
   "id": "d92771f0",
   "metadata": {},
   "source": [
    "#### Underperforming Sellers"
   ]
  },
  {
   "cell_type": "code",
   "execution_count": 19,
   "id": "d3e39f6c",
   "metadata": {},
   "outputs": [],
   "source": [
    "sellers_trim = sellers[['seller_id','months_on_olist','review_score','reputation_cost', 'revenue', 'profit','quantity']]\n",
    "sellers_df = sellers_trim.copy()"
   ]
  },
  {
   "cell_type": "markdown",
   "id": "1ae6873c",
   "metadata": {},
   "source": [
    "Built a function to assess the impact on total profit for Olist, based on selecting indivudal seller profit."
   ]
  },
  {
   "cell_type": "code",
   "execution_count": 20,
   "id": "fd55b23d",
   "metadata": {},
   "outputs": [],
   "source": [
    "def sellers_profit(sellers_df,minimum = 0):\n",
    "    for index, value in sellers_df[[\"profit\"]].iterrows():\n",
    "        if value[0]<minimum:\n",
    "            sellers_df.drop([index], inplace=True)\n",
    "    \n",
    "    alpha = 3157.27\n",
    "    beta = 978.23\n",
    "\n",
    "    total_sellers_c = sellers_df.seller_id.count()\n",
    "    total_products_c = sellers_df.quantity.sum()\n",
    "    sellers_df[\"total_it_costs\"] = alpha*(total_sellers_c**0.5) + beta*(total_products_c**0.5)\n",
    "    return sellers_df"
   ]
  },
  {
   "cell_type": "markdown",
   "id": "747d9327",
   "metadata": {},
   "source": [
    "This function is to calculate the total profit with the selected sellers."
   ]
  },
  {
   "cell_type": "code",
   "execution_count": 21,
   "id": "0c926046",
   "metadata": {},
   "outputs": [],
   "source": [
    "def total_profit(sellers_next):\n",
    "    reputation_cost_c = sellers_next.reputation_cost.sum()\n",
    "    it_cost_c = sellers_next.total_it_costs.max()\n",
    "    costs_c = reputation_cost_c + it_cost_c\n",
    "    revenue_c = sellers_next.revenue.sum()\n",
    "    full_profit = revenue_c - costs_c\n",
    "    return full_profit"
   ]
  },
  {
   "cell_type": "code",
   "execution_count": 22,
   "id": "f8937140",
   "metadata": {},
   "outputs": [
    {
     "data": {
      "text/plain": [
       "'First - recall the total profit: 667608.44 BRL'"
      ]
     },
     "execution_count": 22,
     "metadata": {},
     "output_type": "execute_result"
    }
   ],
   "source": [
    "f\"First - recall the total profit: {profits_net:.2f} BRL\""
   ]
  },
  {
   "cell_type": "markdown",
   "id": "d8d888af",
   "metadata": {},
   "source": [
    "Next - calculate profit if we remove all sellers with a negative profit."
   ]
  },
  {
   "cell_type": "code",
   "execution_count": 23,
   "id": "09cdd9b9",
   "metadata": {},
   "outputs": [],
   "source": [
    "sellers_zero = sellers_profit(sellers_trim,minimum=0);"
   ]
  },
  {
   "cell_type": "code",
   "execution_count": 24,
   "id": "e8ebf2bd",
   "metadata": {},
   "outputs": [
    {
     "data": {
      "text/plain": [
       "'Total profit if we remove all sellers with a negative profit 1059472.22 BRL'"
      ]
     },
     "execution_count": 24,
     "metadata": {},
     "output_type": "execute_result"
    }
   ],
   "source": [
    "profit_zero = round(total_profit(sellers_zero),2)\n",
    "f\"Total profit if we remove all sellers with a negative profit {profit_zero:.2f} BRL\""
   ]
  },
  {
   "cell_type": "code",
   "execution_count": 25,
   "id": "405c35b3",
   "metadata": {},
   "outputs": [
    {
     "data": {
      "text/html": [
       "<div>\n",
       "<style scoped>\n",
       "    .dataframe tbody tr th:only-of-type {\n",
       "        vertical-align: middle;\n",
       "    }\n",
       "\n",
       "    .dataframe tbody tr th {\n",
       "        vertical-align: top;\n",
       "    }\n",
       "\n",
       "    .dataframe thead th {\n",
       "        text-align: right;\n",
       "    }\n",
       "</style>\n",
       "<table border=\"1\" class=\"dataframe\">\n",
       "  <thead>\n",
       "    <tr style=\"text-align: right;\">\n",
       "      <th></th>\n",
       "      <th>seller_id</th>\n",
       "      <th>months_on_olist</th>\n",
       "      <th>review_score</th>\n",
       "      <th>reputation_cost</th>\n",
       "      <th>revenue</th>\n",
       "      <th>profit</th>\n",
       "      <th>quantity</th>\n",
       "      <th>total_it_costs</th>\n",
       "    </tr>\n",
       "  </thead>\n",
       "  <tbody>\n",
       "    <tr>\n",
       "      <th>0</th>\n",
       "      <td>3442f8959a84dea7ee197c632cb2df15</td>\n",
       "      <td>4.0</td>\n",
       "      <td>3.00</td>\n",
       "      <td>140</td>\n",
       "      <td>341.870</td>\n",
       "      <td>201.870</td>\n",
       "      <td>3</td>\n",
       "      <td>414598.843422</td>\n",
       "    </tr>\n",
       "    <tr>\n",
       "      <th>1</th>\n",
       "      <td>d1b65fc7debc3361ea86b5f14c68d2e2</td>\n",
       "      <td>14.0</td>\n",
       "      <td>4.55</td>\n",
       "      <td>240</td>\n",
       "      <td>2290.307</td>\n",
       "      <td>2050.307</td>\n",
       "      <td>41</td>\n",
       "      <td>414598.843422</td>\n",
       "    </tr>\n",
       "    <tr>\n",
       "      <th>2</th>\n",
       "      <td>ce3ad9de960102d0677a81f5d0bb7b2d</td>\n",
       "      <td>0.0</td>\n",
       "      <td>5.00</td>\n",
       "      <td>0</td>\n",
       "      <td>15.800</td>\n",
       "      <td>15.800</td>\n",
       "      <td>1</td>\n",
       "      <td>414598.843422</td>\n",
       "    </tr>\n",
       "    <tr>\n",
       "      <th>3</th>\n",
       "      <td>c0f3eea2e14555b6faeea3dd58c1b1c3</td>\n",
       "      <td>0.0</td>\n",
       "      <td>5.00</td>\n",
       "      <td>0</td>\n",
       "      <td>7.999</td>\n",
       "      <td>7.999</td>\n",
       "      <td>1</td>\n",
       "      <td>414598.843422</td>\n",
       "    </tr>\n",
       "    <tr>\n",
       "      <th>5</th>\n",
       "      <td>c240c4061717ac1806ae6ee72be3533b</td>\n",
       "      <td>0.0</td>\n",
       "      <td>4.00</td>\n",
       "      <td>0</td>\n",
       "      <td>5.990</td>\n",
       "      <td>5.990</td>\n",
       "      <td>1</td>\n",
       "      <td>414598.843422</td>\n",
       "    </tr>\n",
       "    <tr>\n",
       "      <th>...</th>\n",
       "      <td>...</td>\n",
       "      <td>...</td>\n",
       "      <td>...</td>\n",
       "      <td>...</td>\n",
       "      <td>...</td>\n",
       "      <td>...</td>\n",
       "      <td>...</td>\n",
       "      <td>...</td>\n",
       "    </tr>\n",
       "    <tr>\n",
       "      <th>2962</th>\n",
       "      <td>98dddbc4601dd4443ca174359b237166</td>\n",
       "      <td>0.0</td>\n",
       "      <td>5.00</td>\n",
       "      <td>0</td>\n",
       "      <td>15.800</td>\n",
       "      <td>15.800</td>\n",
       "      <td>2</td>\n",
       "      <td>414598.843422</td>\n",
       "    </tr>\n",
       "    <tr>\n",
       "      <th>2963</th>\n",
       "      <td>f8201cab383e484733266d1906e2fdfa</td>\n",
       "      <td>14.0</td>\n",
       "      <td>4.10</td>\n",
       "      <td>140</td>\n",
       "      <td>1208.900</td>\n",
       "      <td>1068.900</td>\n",
       "      <td>10</td>\n",
       "      <td>414598.843422</td>\n",
       "    </tr>\n",
       "    <tr>\n",
       "      <th>2964</th>\n",
       "      <td>74871d19219c7d518d0090283e03c137</td>\n",
       "      <td>5.0</td>\n",
       "      <td>5.00</td>\n",
       "      <td>0</td>\n",
       "      <td>455.004</td>\n",
       "      <td>455.004</td>\n",
       "      <td>7</td>\n",
       "      <td>414598.843422</td>\n",
       "    </tr>\n",
       "    <tr>\n",
       "      <th>2965</th>\n",
       "      <td>e603cf3fec55f8697c9059638d6c8eb5</td>\n",
       "      <td>4.0</td>\n",
       "      <td>4.25</td>\n",
       "      <td>50</td>\n",
       "      <td>349.700</td>\n",
       "      <td>299.700</td>\n",
       "      <td>11</td>\n",
       "      <td>414598.843422</td>\n",
       "    </tr>\n",
       "    <tr>\n",
       "      <th>2966</th>\n",
       "      <td>9e25199f6ef7e7c347120ff175652c3b</td>\n",
       "      <td>0.0</td>\n",
       "      <td>4.00</td>\n",
       "      <td>0</td>\n",
       "      <td>1.250</td>\n",
       "      <td>1.250</td>\n",
       "      <td>1</td>\n",
       "      <td>414598.843422</td>\n",
       "    </tr>\n",
       "  </tbody>\n",
       "</table>\n",
       "<p>2591 rows × 8 columns</p>\n",
       "</div>"
      ],
      "text/plain": [
       "                             seller_id  months_on_olist  review_score  \\\n",
       "0     3442f8959a84dea7ee197c632cb2df15              4.0          3.00   \n",
       "1     d1b65fc7debc3361ea86b5f14c68d2e2             14.0          4.55   \n",
       "2     ce3ad9de960102d0677a81f5d0bb7b2d              0.0          5.00   \n",
       "3     c0f3eea2e14555b6faeea3dd58c1b1c3              0.0          5.00   \n",
       "5     c240c4061717ac1806ae6ee72be3533b              0.0          4.00   \n",
       "...                                ...              ...           ...   \n",
       "2962  98dddbc4601dd4443ca174359b237166              0.0          5.00   \n",
       "2963  f8201cab383e484733266d1906e2fdfa             14.0          4.10   \n",
       "2964  74871d19219c7d518d0090283e03c137              5.0          5.00   \n",
       "2965  e603cf3fec55f8697c9059638d6c8eb5              4.0          4.25   \n",
       "2966  9e25199f6ef7e7c347120ff175652c3b              0.0          4.00   \n",
       "\n",
       "      reputation_cost   revenue    profit  quantity  total_it_costs  \n",
       "0                 140   341.870   201.870         3   414598.843422  \n",
       "1                 240  2290.307  2050.307        41   414598.843422  \n",
       "2                   0    15.800    15.800         1   414598.843422  \n",
       "3                   0     7.999     7.999         1   414598.843422  \n",
       "5                   0     5.990     5.990         1   414598.843422  \n",
       "...               ...       ...       ...       ...             ...  \n",
       "2962                0    15.800    15.800         2   414598.843422  \n",
       "2963              140  1208.900  1068.900        10   414598.843422  \n",
       "2964                0   455.004   455.004         7   414598.843422  \n",
       "2965               50   349.700   299.700        11   414598.843422  \n",
       "2966                0     1.250     1.250         1   414598.843422  \n",
       "\n",
       "[2591 rows x 8 columns]"
      ]
     },
     "execution_count": 25,
     "metadata": {},
     "output_type": "execute_result"
    }
   ],
   "source": [
    "sellers_zero"
   ]
  },
  {
   "cell_type": "code",
   "execution_count": 28,
   "id": "0e4ec082",
   "metadata": {},
   "outputs": [
    {
     "data": {
      "text/plain": [
       "'Therefore removing all sellers with a negative profit, provides us with a 59.0 increase %'"
      ]
     },
     "execution_count": 28,
     "metadata": {},
     "output_type": "execute_result"
    }
   ],
   "source": [
    "f\"Therefore removing all sellers with a negative profit, provides us with a {round(profit_zero/profits_net -1,2)*100} increase. %\""
   ]
  },
  {
   "cell_type": "markdown",
   "id": "d08259e4",
   "metadata": {},
   "source": [
    "**Further Exploratory Analysis**"
   ]
  },
  {
   "cell_type": "markdown",
   "id": "138666c2",
   "metadata": {},
   "source": [
    "Assessing the impact of wait time and months as sellers on the review score."
   ]
  },
  {
   "cell_type": "code",
   "execution_count": 27,
   "id": "a38ebb94",
   "metadata": {},
   "outputs": [
    {
     "data": {
      "text/html": [
       "        <script type=\"text/javascript\">\n",
       "        window.PlotlyConfig = {MathJaxConfig: 'local'};\n",
       "        if (window.MathJax && window.MathJax.Hub && window.MathJax.Hub.Config) {window.MathJax.Hub.Config({SVG: {font: \"STIX-Web\"}});}\n",
       "        if (typeof require !== 'undefined') {\n",
       "        require.undef(\"plotly\");\n",
       "        requirejs.config({\n",
       "            paths: {\n",
       "                'plotly': ['https://cdn.plot.ly/plotly-2.14.0.min']\n",
       "            }\n",
       "        });\n",
       "        require(['plotly'], function(Plotly) {\n",
       "            window._Plotly = Plotly;\n",
       "        });\n",
       "        }\n",
       "        </script>\n",
       "        "
      ]
     },
     "metadata": {},
     "output_type": "display_data"
    },
    {
     "data": {
      "application/vnd.plotly.v1+json": {
       "config": {
        "plotlyServerURL": "https://plot.ly"
       },
       "data": [
        {
         "hovertemplate": "months_on_olist=%{x}<br>wait_time=%{y}<br>sales=%{marker.size}<br>review_score=%{marker.color}<extra></extra>",
         "legendgroup": "",
         "marker": {
          "color": [
           1,
           1,
           2.625,
           1.25,
           2.9615384615384617,
           1,
           2.5,
           1.5,
           2.6666666666666665,
           1,
           1,
           2.3333333333333335,
           2.6666666666666665,
           2.6666666666666665,
           1,
           1,
           1,
           2.3333333333333335,
           1,
           1.5,
           2.7142857142857144,
           2.6363636363636362,
           2.3333333333333335,
           2.5,
           2.5,
           1.5,
           2.6,
           2.25,
           1,
           1.5,
           2,
           2,
           2.3333333333333335,
           2,
           1,
           2,
           2.5,
           2.3333333333333335,
           2.5,
           2,
           1,
           1,
           2.5,
           2.769230769230769,
           2.6666666666666665,
           2,
           2.5,
           2.875,
           2.4444444444444446,
           2.5,
           1,
           2.6666666666666665,
           2.5,
           1,
           2.5,
           2.411764705882353,
           1.7222222222222223,
           2.5,
           2,
           2,
           1,
           1,
           2.5,
           1,
           1,
           2,
           1,
           2.75,
           2.6666666666666665,
           2.6,
           1,
           2.693467336683417,
           2.6,
           2,
           1,
           1,
           2.5,
           1,
           2.4,
           2.3333333333333335,
           1,
           1,
           2.5714285714285716,
           2.5,
           2.5,
           1.5,
           1,
           2,
           1,
           2.3333333333333335,
           2.3333333333333335,
           2.7916666666666665,
           2.6666666666666665,
           1,
           2.5,
           1,
           2.75,
           2.3333333333333335,
           2,
           1,
           2.5,
           1,
           2.75,
           1,
           2.3333333333333335,
           2.642857142857143,
           2.5,
           2.6666666666666665,
           2,
           2,
           1,
           2.5714285714285716,
           2.3333333333333335,
           2.5,
           2.5555555555555554,
           2.5,
           2,
           1.8333333333333333,
           2.25,
           2,
           2.9565217391304346,
           2.5,
           2,
           2.3333333333333335,
           2.3636363636363638,
           1,
           1.6666666666666667,
           1,
           2.3333333333333335,
           2,
           2,
           1,
           2.6666666666666665,
           1,
           1.5,
           1,
           2.25,
           2,
           2.8333333333333335,
           2,
           1,
           2.5454545454545454,
           2,
           2,
           2.6666666666666665,
           1.5,
           1,
           1.8,
           2.1,
           2.3333333333333335,
           2.8,
           1,
           1,
           2.3333333333333335,
           1,
           2.5,
           2.3333333333333335,
           2,
           2.3333333333333335,
           2,
           2,
           1,
           1,
           1,
           1,
           2.909090909090909,
           2.6666666666666665,
           2.3333333333333335,
           2.5555555555555554,
           1,
           1,
           2.75,
           2,
           1,
           1,
           1,
           1,
           2.6666666666666665,
           2.3636363636363638,
           1,
           2.5,
           2.5,
           2.3333333333333335,
           2.5,
           1,
           1,
           2.5,
           2.3333333333333335,
           1,
           2.3333333333333335,
           2.8,
           2.3333333333333335,
           2,
           1,
           1.263157894736842,
           1.6666666666666667,
           1,
           1
          ],
          "coloraxis": "coloraxis",
          "opacity": 0.5,
          "size": [
           167.99,
           2749,
           596.55,
           125.2,
           11900.9,
           376.8,
           351.8,
           596.26,
           253.70000000000002,
           12.5,
           146.99,
           509,
           1459.97,
           529.7,
           115,
           49.6,
           11.9,
           259.7,
           78.35,
           3312.16,
           340,
           555.71,
           119.69999999999999,
           195.18,
           591.92,
           159.8,
           727.6,
           97.6,
           84,
           37.98,
           29.700000000000003,
           1049,
           179.8,
           1099,
           699.42,
           29.8,
           776,
           570,
           722.4,
           1849.79,
           130,
           59.47,
           53.8,
           2369.8,
           302.84000000000003,
           180,
           457.69,
           11961.829999999998,
           1804,
           756.76,
           49,
           1847,
           244,
           127.8,
           493,
           2992.1,
           24699.19,
           98.75,
           627,
           14391,
           750,
           144.8,
           79.8,
           4700,
           45.22,
           39.9,
           180,
           1079,
           84.35,
           2934.7200000000003,
           70,
           42628.61,
           1552.9,
           196.9,
           41.9,
           161.7,
           193.1,
           201.9,
           6245,
           327.63,
           3477.7000000000003,
           139,
           3104.2000000000003,
           385,
           3472,
           560,
           998,
           188.9,
           149.9,
           1151,
           990.5999999999999,
           6202.91,
           866,
           89,
           649.95,
           115,
           289.7,
           170.8,
           39.8,
           133,
           162.7,
           336,
           130.69,
           138.60000000000002,
           747,
           5794,
           162.8,
           6897.9,
           1198,
           935,
           199.8,
           1338.64,
           119.96000000000001,
           182.48000000000002,
           1359.7800000000002,
           117.8,
           330,
           1315.3,
           24075,
           10.9,
           2020.73,
           94.98,
           199,
           279.79,
           23168,
           121.2,
           495,
           1489,
           696,
           199.8,
           909,
           214.08,
           360,
           6.9,
           198,
           75,
           2748,
           94.8,
           221.61999999999998,
           95.54,
           13,
           1247.8,
           650,
           252.9,
           247.8,
           256.39,
           975,
           1037.6000000000001,
           1426.3,
           202.79000000000002,
           2644.95,
           160,
           578,
           189.70000000000002,
           29.9,
           360,
           185.70000000000002,
           1109.5,
           1177,
           48,
           22.5,
           849.5,
           57.99,
           74.9,
           237.6,
           2005,
           432.92,
           848.99,
           148.3,
           159.9,
           35,
           494.91,
           199.67000000000002,
           186,
           89.9,
           570,
           79.9,
           318.8,
           2459.89,
           339.89,
           51.9,
           208,
           13341.57,
           59.8,
           89.99,
           259.6,
           1680.1,
           34.5,
           39.9,
           387,
           649.3000000000001,
           484.5,
           658,
           198,
           2867.1,
           2178.27,
           59.3,
           199.5
          ],
          "sizemode": "area",
          "sizeref": 11.841280555555556,
          "symbol": "circle"
         },
         "mode": "markers",
         "name": "",
         "orientation": "v",
         "showlegend": false,
         "type": "scatter",
         "x": [
          0,
          0,
          7,
          6,
          7,
          0,
          0,
          3,
          1,
          0,
          0,
          5,
          5,
          2,
          0,
          0,
          0,
          2,
          2,
          6,
          1,
          7,
          4,
          0,
          2,
          2,
          3,
          0,
          0,
          2,
          0,
          6,
          1,
          0,
          0,
          0,
          8,
          1,
          2,
          5,
          0,
          0,
          0,
          1,
          11,
          0,
          0,
          3,
          3,
          0,
          0,
          7,
          4,
          1,
          4,
          6,
          2,
          1,
          3,
          3,
          0,
          1,
          2,
          0,
          0,
          0,
          0,
          7,
          1,
          4,
          0,
          5,
          2,
          0,
          0,
          8,
          4,
          0,
          8,
          2,
          3,
          0,
          7,
          0,
          2,
          0,
          0,
          0,
          0,
          4,
          2,
          10,
          1,
          0,
          1,
          0,
          6,
          2,
          5,
          0,
          2,
          0,
          2,
          0,
          2,
          15,
          11,
          1,
          1,
          2,
          0,
          1,
          3,
          6,
          7,
          0,
          0,
          0,
          15,
          0,
          12,
          4,
          0,
          5,
          6,
          1,
          8,
          0,
          3,
          0,
          17,
          0,
          7,
          0,
          0,
          0,
          2,
          0,
          2,
          0,
          0,
          16,
          0,
          1,
          3,
          4,
          0,
          0,
          6,
          1,
          4,
          0,
          0,
          2,
          0,
          6,
          3,
          2,
          1,
          0,
          0,
          0,
          0,
          0,
          0,
          7,
          3,
          3,
          14,
          0,
          0,
          3,
          0,
          0,
          0,
          0,
          0,
          1,
          5,
          2,
          6,
          4,
          7,
          0,
          0,
          0,
          2,
          7,
          0,
          2,
          6,
          4,
          1,
          0,
          7,
          7,
          0,
          1
         ],
         "xaxis": "x",
         "y": [
          35.314861111111114,
          10.39494212962963,
          22.93613522376543,
          13.50111689814815,
          19.68345833333333,
          34.95599537037037,
          20.768761574074073,
          28.20550925925926,
          40.11726851851852,
          3.2347337962962963,
          21.88304398148148,
          11.425807461873637,
          19.269425154320988,
          8.132112268518519,
          33.1228587962963,
          21.939131944444444,
          13.295810185185186,
          13.436047453703704,
          14.629606481481481,
          49.224266203703706,
          9.644796006944444,
          11.88611239711934,
          33.66361689814815,
          7.22974537037037,
          52.582190393518516,
          9.651765046296296,
          10.648128858024693,
          5.8790914351851855,
          25.36692901234568,
          9.102488425925927,
          16.56861111111111,
          8.628703703703703,
          7.73574363425926,
          21.226134259259258,
          14.144814814814815,
          13.061111111111112,
          12.30955825617284,
          19.841226851851854,
          11.796643518518518,
          22.54623148148148,
          14.64236111111111,
          53.34842592592592,
          5.066215277777777,
          8.85844135802469,
          14.713342978395062,
          6.158113425925926,
          25.347723765432097,
          11.528446759259259,
          17.46901620370371,
          25.40222800925926,
          6.361909722222222,
          7.031435185185185,
          14.027887731481481,
          44.565300925925925,
          14.242025462962962,
          12.996622023809524,
          23.403023313492067,
          8.043780864197531,
          39.61394675925926,
          26.407038966049384,
          12.314270833333333,
          23.00158564814815,
          12.421550925925926,
          33.83170138888889,
          59.22667824074074,
          13.50712962962963,
          37.03043981481481,
          18.03236400462963,
          21.56864197530864,
          20.691591435185185,
          17.079074074074075,
          17.97467686595225,
          15.342019675925926,
          22.51039351851852,
          11.03644675925926,
          51.49710648148148,
          15.132824074074074,
          21.42582175925926,
          10.070645833333334,
          22.573813657407406,
          38.01493055555555,
          10.483483796296296,
          19.985843621399177,
          12.295746527777778,
          16.915497685185183,
          21.719467592592594,
          24.12673611111111,
          12.66162037037037,
          35.493993055555556,
          6.682824074074074,
          6.657034143518518,
          18.389999390838206,
          14.754149305555556,
          32.77846064814815,
          16.233270833333332,
          31.544166666666666,
          10.663962962962964,
          11.198726851851852,
          2.154710648148148,
          10.748113425925926,
          8.833802083333333,
          47.10233796296296,
          11.561912615740741,
          1.9462268518518517,
          22.529178240740745,
          25.812436342592598,
          13.929652777777777,
          18.740069444444444,
          16.186406249999997,
          10.025785383597883,
          39.73696759259259,
          35.133161168981474,
          42.059888117283954,
          20.48904513888889,
          9.652709780092593,
          19.298738425925926,
          11.495,
          17.37599537037037,
          17.175111111111114,
          32.62399305555556,
          19.070086553945256,
          11.212523148148149,
          16.289837962962963,
          7.158981481481481,
          14.77563175154321,
          42.1159056712963,
          14.799812499999998,
          33.21452546296296,
          34.307094907407404,
          16.483385416666668,
          21.206091617933726,
          6.10394675925926,
          16.972858796296297,
          6.255381944444444,
          30.358559027777776,
          11.811469907407407,
          14.03383101851852,
          12.403761574074075,
          7.046665013227513,
          21.39116898148148,
          4.7878125,
          21.20098636831276,
          9.573449074074073,
          6.199189814814815,
          8.111898148148148,
          25.07654861111111,
          86.00116898148148,
          25.722860725308646,
          12.496232638888888,
          22.54966049382716,
          13.565163323045267,
          13.800219907407408,
          24.899224537037036,
          4.259791666666667,
          10.80730324074074,
          13.318443287037038,
          15.516493055555555,
          8.770837962962963,
          47.8408024691358,
          10.955590277777778,
          8.033923611111112,
          26.114687499999995,
          7.138460648148148,
          6.0855902777777775,
          30.294270833333332,
          13.084930555555555,
          5.102037037037037,
          17.37723090277778,
          17.311448206018518,
          13.430914351851852,
          6.339652777777777,
          15.36813014403292,
          11.67219135802469,
          14.27412037037037,
          24.920844907407407,
          22.617453703703703,
          45.16071759259259,
          8.655138888888889,
          30.38007407407407,
          17.78358796296296,
          39.27744212962963,
          9.107554976851851,
          15.028811242344709,
          13.019328703703703,
          37.079166666666666,
          33.85025462962963,
          15.188487654320987,
          26.52927083333333,
          189.86315972222224,
          10.291921296296296,
          16.36822255291005,
          29.121037037037034,
          9.31943287037037,
          68.62114583333333,
          15.676087962962963,
          20.652399691358024,
          18.27550925925926,
          3.97537037037037
         ],
         "yaxis": "y"
        }
       ],
       "layout": {
        "coloraxis": {
         "colorbar": {
          "title": {
           "text": "review_score"
          }
         },
         "colorscale": [
          [
           0,
           "#0d0887"
          ],
          [
           0.1111111111111111,
           "#46039f"
          ],
          [
           0.2222222222222222,
           "#7201a8"
          ],
          [
           0.3333333333333333,
           "#9c179e"
          ],
          [
           0.4444444444444444,
           "#bd3786"
          ],
          [
           0.5555555555555556,
           "#d8576b"
          ],
          [
           0.6666666666666666,
           "#ed7953"
          ],
          [
           0.7777777777777778,
           "#fb9f3a"
          ],
          [
           0.8888888888888888,
           "#fdca26"
          ],
          [
           1,
           "#f0f921"
          ]
         ]
        },
        "legend": {
         "itemsizing": "constant",
         "tracegroupgap": 0
        },
        "margin": {
         "t": 60
        },
        "template": {
         "data": {
          "bar": [
           {
            "error_x": {
             "color": "#2a3f5f"
            },
            "error_y": {
             "color": "#2a3f5f"
            },
            "marker": {
             "line": {
              "color": "#E5ECF6",
              "width": 0.5
             },
             "pattern": {
              "fillmode": "overlay",
              "size": 10,
              "solidity": 0.2
             }
            },
            "type": "bar"
           }
          ],
          "barpolar": [
           {
            "marker": {
             "line": {
              "color": "#E5ECF6",
              "width": 0.5
             },
             "pattern": {
              "fillmode": "overlay",
              "size": 10,
              "solidity": 0.2
             }
            },
            "type": "barpolar"
           }
          ],
          "carpet": [
           {
            "aaxis": {
             "endlinecolor": "#2a3f5f",
             "gridcolor": "white",
             "linecolor": "white",
             "minorgridcolor": "white",
             "startlinecolor": "#2a3f5f"
            },
            "baxis": {
             "endlinecolor": "#2a3f5f",
             "gridcolor": "white",
             "linecolor": "white",
             "minorgridcolor": "white",
             "startlinecolor": "#2a3f5f"
            },
            "type": "carpet"
           }
          ],
          "choropleth": [
           {
            "colorbar": {
             "outlinewidth": 0,
             "ticks": ""
            },
            "type": "choropleth"
           }
          ],
          "contour": [
           {
            "colorbar": {
             "outlinewidth": 0,
             "ticks": ""
            },
            "colorscale": [
             [
              0,
              "#0d0887"
             ],
             [
              0.1111111111111111,
              "#46039f"
             ],
             [
              0.2222222222222222,
              "#7201a8"
             ],
             [
              0.3333333333333333,
              "#9c179e"
             ],
             [
              0.4444444444444444,
              "#bd3786"
             ],
             [
              0.5555555555555556,
              "#d8576b"
             ],
             [
              0.6666666666666666,
              "#ed7953"
             ],
             [
              0.7777777777777778,
              "#fb9f3a"
             ],
             [
              0.8888888888888888,
              "#fdca26"
             ],
             [
              1,
              "#f0f921"
             ]
            ],
            "type": "contour"
           }
          ],
          "contourcarpet": [
           {
            "colorbar": {
             "outlinewidth": 0,
             "ticks": ""
            },
            "type": "contourcarpet"
           }
          ],
          "heatmap": [
           {
            "colorbar": {
             "outlinewidth": 0,
             "ticks": ""
            },
            "colorscale": [
             [
              0,
              "#0d0887"
             ],
             [
              0.1111111111111111,
              "#46039f"
             ],
             [
              0.2222222222222222,
              "#7201a8"
             ],
             [
              0.3333333333333333,
              "#9c179e"
             ],
             [
              0.4444444444444444,
              "#bd3786"
             ],
             [
              0.5555555555555556,
              "#d8576b"
             ],
             [
              0.6666666666666666,
              "#ed7953"
             ],
             [
              0.7777777777777778,
              "#fb9f3a"
             ],
             [
              0.8888888888888888,
              "#fdca26"
             ],
             [
              1,
              "#f0f921"
             ]
            ],
            "type": "heatmap"
           }
          ],
          "heatmapgl": [
           {
            "colorbar": {
             "outlinewidth": 0,
             "ticks": ""
            },
            "colorscale": [
             [
              0,
              "#0d0887"
             ],
             [
              0.1111111111111111,
              "#46039f"
             ],
             [
              0.2222222222222222,
              "#7201a8"
             ],
             [
              0.3333333333333333,
              "#9c179e"
             ],
             [
              0.4444444444444444,
              "#bd3786"
             ],
             [
              0.5555555555555556,
              "#d8576b"
             ],
             [
              0.6666666666666666,
              "#ed7953"
             ],
             [
              0.7777777777777778,
              "#fb9f3a"
             ],
             [
              0.8888888888888888,
              "#fdca26"
             ],
             [
              1,
              "#f0f921"
             ]
            ],
            "type": "heatmapgl"
           }
          ],
          "histogram": [
           {
            "marker": {
             "pattern": {
              "fillmode": "overlay",
              "size": 10,
              "solidity": 0.2
             }
            },
            "type": "histogram"
           }
          ],
          "histogram2d": [
           {
            "colorbar": {
             "outlinewidth": 0,
             "ticks": ""
            },
            "colorscale": [
             [
              0,
              "#0d0887"
             ],
             [
              0.1111111111111111,
              "#46039f"
             ],
             [
              0.2222222222222222,
              "#7201a8"
             ],
             [
              0.3333333333333333,
              "#9c179e"
             ],
             [
              0.4444444444444444,
              "#bd3786"
             ],
             [
              0.5555555555555556,
              "#d8576b"
             ],
             [
              0.6666666666666666,
              "#ed7953"
             ],
             [
              0.7777777777777778,
              "#fb9f3a"
             ],
             [
              0.8888888888888888,
              "#fdca26"
             ],
             [
              1,
              "#f0f921"
             ]
            ],
            "type": "histogram2d"
           }
          ],
          "histogram2dcontour": [
           {
            "colorbar": {
             "outlinewidth": 0,
             "ticks": ""
            },
            "colorscale": [
             [
              0,
              "#0d0887"
             ],
             [
              0.1111111111111111,
              "#46039f"
             ],
             [
              0.2222222222222222,
              "#7201a8"
             ],
             [
              0.3333333333333333,
              "#9c179e"
             ],
             [
              0.4444444444444444,
              "#bd3786"
             ],
             [
              0.5555555555555556,
              "#d8576b"
             ],
             [
              0.6666666666666666,
              "#ed7953"
             ],
             [
              0.7777777777777778,
              "#fb9f3a"
             ],
             [
              0.8888888888888888,
              "#fdca26"
             ],
             [
              1,
              "#f0f921"
             ]
            ],
            "type": "histogram2dcontour"
           }
          ],
          "mesh3d": [
           {
            "colorbar": {
             "outlinewidth": 0,
             "ticks": ""
            },
            "type": "mesh3d"
           }
          ],
          "parcoords": [
           {
            "line": {
             "colorbar": {
              "outlinewidth": 0,
              "ticks": ""
             }
            },
            "type": "parcoords"
           }
          ],
          "pie": [
           {
            "automargin": true,
            "type": "pie"
           }
          ],
          "scatter": [
           {
            "fillpattern": {
             "fillmode": "overlay",
             "size": 10,
             "solidity": 0.2
            },
            "type": "scatter"
           }
          ],
          "scatter3d": [
           {
            "line": {
             "colorbar": {
              "outlinewidth": 0,
              "ticks": ""
             }
            },
            "marker": {
             "colorbar": {
              "outlinewidth": 0,
              "ticks": ""
             }
            },
            "type": "scatter3d"
           }
          ],
          "scattercarpet": [
           {
            "marker": {
             "colorbar": {
              "outlinewidth": 0,
              "ticks": ""
             }
            },
            "type": "scattercarpet"
           }
          ],
          "scattergeo": [
           {
            "marker": {
             "colorbar": {
              "outlinewidth": 0,
              "ticks": ""
             }
            },
            "type": "scattergeo"
           }
          ],
          "scattergl": [
           {
            "marker": {
             "colorbar": {
              "outlinewidth": 0,
              "ticks": ""
             }
            },
            "type": "scattergl"
           }
          ],
          "scattermapbox": [
           {
            "marker": {
             "colorbar": {
              "outlinewidth": 0,
              "ticks": ""
             }
            },
            "type": "scattermapbox"
           }
          ],
          "scatterpolar": [
           {
            "marker": {
             "colorbar": {
              "outlinewidth": 0,
              "ticks": ""
             }
            },
            "type": "scatterpolar"
           }
          ],
          "scatterpolargl": [
           {
            "marker": {
             "colorbar": {
              "outlinewidth": 0,
              "ticks": ""
             }
            },
            "type": "scatterpolargl"
           }
          ],
          "scatterternary": [
           {
            "marker": {
             "colorbar": {
              "outlinewidth": 0,
              "ticks": ""
             }
            },
            "type": "scatterternary"
           }
          ],
          "surface": [
           {
            "colorbar": {
             "outlinewidth": 0,
             "ticks": ""
            },
            "colorscale": [
             [
              0,
              "#0d0887"
             ],
             [
              0.1111111111111111,
              "#46039f"
             ],
             [
              0.2222222222222222,
              "#7201a8"
             ],
             [
              0.3333333333333333,
              "#9c179e"
             ],
             [
              0.4444444444444444,
              "#bd3786"
             ],
             [
              0.5555555555555556,
              "#d8576b"
             ],
             [
              0.6666666666666666,
              "#ed7953"
             ],
             [
              0.7777777777777778,
              "#fb9f3a"
             ],
             [
              0.8888888888888888,
              "#fdca26"
             ],
             [
              1,
              "#f0f921"
             ]
            ],
            "type": "surface"
           }
          ],
          "table": [
           {
            "cells": {
             "fill": {
              "color": "#EBF0F8"
             },
             "line": {
              "color": "white"
             }
            },
            "header": {
             "fill": {
              "color": "#C8D4E3"
             },
             "line": {
              "color": "white"
             }
            },
            "type": "table"
           }
          ]
         },
         "layout": {
          "annotationdefaults": {
           "arrowcolor": "#2a3f5f",
           "arrowhead": 0,
           "arrowwidth": 1
          },
          "autotypenumbers": "strict",
          "coloraxis": {
           "colorbar": {
            "outlinewidth": 0,
            "ticks": ""
           }
          },
          "colorscale": {
           "diverging": [
            [
             0,
             "#8e0152"
            ],
            [
             0.1,
             "#c51b7d"
            ],
            [
             0.2,
             "#de77ae"
            ],
            [
             0.3,
             "#f1b6da"
            ],
            [
             0.4,
             "#fde0ef"
            ],
            [
             0.5,
             "#f7f7f7"
            ],
            [
             0.6,
             "#e6f5d0"
            ],
            [
             0.7,
             "#b8e186"
            ],
            [
             0.8,
             "#7fbc41"
            ],
            [
             0.9,
             "#4d9221"
            ],
            [
             1,
             "#276419"
            ]
           ],
           "sequential": [
            [
             0,
             "#0d0887"
            ],
            [
             0.1111111111111111,
             "#46039f"
            ],
            [
             0.2222222222222222,
             "#7201a8"
            ],
            [
             0.3333333333333333,
             "#9c179e"
            ],
            [
             0.4444444444444444,
             "#bd3786"
            ],
            [
             0.5555555555555556,
             "#d8576b"
            ],
            [
             0.6666666666666666,
             "#ed7953"
            ],
            [
             0.7777777777777778,
             "#fb9f3a"
            ],
            [
             0.8888888888888888,
             "#fdca26"
            ],
            [
             1,
             "#f0f921"
            ]
           ],
           "sequentialminus": [
            [
             0,
             "#0d0887"
            ],
            [
             0.1111111111111111,
             "#46039f"
            ],
            [
             0.2222222222222222,
             "#7201a8"
            ],
            [
             0.3333333333333333,
             "#9c179e"
            ],
            [
             0.4444444444444444,
             "#bd3786"
            ],
            [
             0.5555555555555556,
             "#d8576b"
            ],
            [
             0.6666666666666666,
             "#ed7953"
            ],
            [
             0.7777777777777778,
             "#fb9f3a"
            ],
            [
             0.8888888888888888,
             "#fdca26"
            ],
            [
             1,
             "#f0f921"
            ]
           ]
          },
          "colorway": [
           "#636efa",
           "#EF553B",
           "#00cc96",
           "#ab63fa",
           "#FFA15A",
           "#19d3f3",
           "#FF6692",
           "#B6E880",
           "#FF97FF",
           "#FECB52"
          ],
          "font": {
           "color": "#2a3f5f"
          },
          "geo": {
           "bgcolor": "white",
           "lakecolor": "white",
           "landcolor": "#E5ECF6",
           "showlakes": true,
           "showland": true,
           "subunitcolor": "white"
          },
          "hoverlabel": {
           "align": "left"
          },
          "hovermode": "closest",
          "mapbox": {
           "style": "light"
          },
          "paper_bgcolor": "white",
          "plot_bgcolor": "#E5ECF6",
          "polar": {
           "angularaxis": {
            "gridcolor": "white",
            "linecolor": "white",
            "ticks": ""
           },
           "bgcolor": "#E5ECF6",
           "radialaxis": {
            "gridcolor": "white",
            "linecolor": "white",
            "ticks": ""
           }
          },
          "scene": {
           "xaxis": {
            "backgroundcolor": "#E5ECF6",
            "gridcolor": "white",
            "gridwidth": 2,
            "linecolor": "white",
            "showbackground": true,
            "ticks": "",
            "zerolinecolor": "white"
           },
           "yaxis": {
            "backgroundcolor": "#E5ECF6",
            "gridcolor": "white",
            "gridwidth": 2,
            "linecolor": "white",
            "showbackground": true,
            "ticks": "",
            "zerolinecolor": "white"
           },
           "zaxis": {
            "backgroundcolor": "#E5ECF6",
            "gridcolor": "white",
            "gridwidth": 2,
            "linecolor": "white",
            "showbackground": true,
            "ticks": "",
            "zerolinecolor": "white"
           }
          },
          "shapedefaults": {
           "line": {
            "color": "#2a3f5f"
           }
          },
          "ternary": {
           "aaxis": {
            "gridcolor": "white",
            "linecolor": "white",
            "ticks": ""
           },
           "baxis": {
            "gridcolor": "white",
            "linecolor": "white",
            "ticks": ""
           },
           "bgcolor": "#E5ECF6",
           "caxis": {
            "gridcolor": "white",
            "linecolor": "white",
            "ticks": ""
           }
          },
          "title": {
           "x": 0.05
          },
          "xaxis": {
           "automargin": true,
           "gridcolor": "white",
           "linecolor": "white",
           "ticks": "",
           "title": {
            "standoff": 15
           },
           "zerolinecolor": "white",
           "zerolinewidth": 2
          },
          "yaxis": {
           "automargin": true,
           "gridcolor": "white",
           "linecolor": "white",
           "ticks": "",
           "title": {
            "standoff": 15
           },
           "zerolinecolor": "white",
           "zerolinewidth": 2
          }
         }
        },
        "xaxis": {
         "anchor": "y",
         "domain": [
          0,
          1
         ],
         "title": {
          "text": "months_on_olist"
         }
        },
        "yaxis": {
         "anchor": "x",
         "domain": [
          0,
          1
         ],
         "title": {
          "text": "wait_time"
         }
        }
       }
      },
      "text/html": [
       "<div>                            <div id=\"c13cc52e-6b72-4e6f-8f83-570abd6ef6ae\" class=\"plotly-graph-div\" style=\"height:525px; width:100%;\"></div>            <script type=\"text/javascript\">                require([\"plotly\"], function(Plotly) {                    window.PLOTLYENV=window.PLOTLYENV || {};                                    if (document.getElementById(\"c13cc52e-6b72-4e6f-8f83-570abd6ef6ae\")) {                    Plotly.newPlot(                        \"c13cc52e-6b72-4e6f-8f83-570abd6ef6ae\",                        [{\"hovertemplate\":\"months_on_olist=%{x}<br>wait_time=%{y}<br>sales=%{marker.size}<br>review_score=%{marker.color}<extra></extra>\",\"legendgroup\":\"\",\"marker\":{\"color\":[1.0,1.0,2.625,1.25,2.9615384615384617,1.0,2.5,1.5,2.6666666666666665,1.0,1.0,2.3333333333333335,2.6666666666666665,2.6666666666666665,1.0,1.0,1.0,2.3333333333333335,1.0,1.5,2.7142857142857144,2.6363636363636362,2.3333333333333335,2.5,2.5,1.5,2.6,2.25,1.0,1.5,2.0,2.0,2.3333333333333335,2.0,1.0,2.0,2.5,2.3333333333333335,2.5,2.0,1.0,1.0,2.5,2.769230769230769,2.6666666666666665,2.0,2.5,2.875,2.4444444444444446,2.5,1.0,2.6666666666666665,2.5,1.0,2.5,2.411764705882353,1.7222222222222223,2.5,2.0,2.0,1.0,1.0,2.5,1.0,1.0,2.0,1.0,2.75,2.6666666666666665,2.6,1.0,2.693467336683417,2.6,2.0,1.0,1.0,2.5,1.0,2.4,2.3333333333333335,1.0,1.0,2.5714285714285716,2.5,2.5,1.5,1.0,2.0,1.0,2.3333333333333335,2.3333333333333335,2.7916666666666665,2.6666666666666665,1.0,2.5,1.0,2.75,2.3333333333333335,2.0,1.0,2.5,1.0,2.75,1.0,2.3333333333333335,2.642857142857143,2.5,2.6666666666666665,2.0,2.0,1.0,2.5714285714285716,2.3333333333333335,2.5,2.5555555555555554,2.5,2.0,1.8333333333333333,2.25,2.0,2.9565217391304346,2.5,2.0,2.3333333333333335,2.3636363636363638,1.0,1.6666666666666667,1.0,2.3333333333333335,2.0,2.0,1.0,2.6666666666666665,1.0,1.5,1.0,2.25,2.0,2.8333333333333335,2.0,1.0,2.5454545454545454,2.0,2.0,2.6666666666666665,1.5,1.0,1.8,2.1,2.3333333333333335,2.8,1.0,1.0,2.3333333333333335,1.0,2.5,2.3333333333333335,2.0,2.3333333333333335,2.0,2.0,1.0,1.0,1.0,1.0,2.909090909090909,2.6666666666666665,2.3333333333333335,2.5555555555555554,1.0,1.0,2.75,2.0,1.0,1.0,1.0,1.0,2.6666666666666665,2.3636363636363638,1.0,2.5,2.5,2.3333333333333335,2.5,1.0,1.0,2.5,2.3333333333333335,1.0,2.3333333333333335,2.8,2.3333333333333335,2.0,1.0,1.263157894736842,1.6666666666666667,1.0,1.0],\"coloraxis\":\"coloraxis\",\"opacity\":0.5,\"size\":[167.99,2749.0,596.55,125.2,11900.9,376.8,351.8,596.26,253.70000000000002,12.5,146.99,509.0,1459.97,529.7,115.0,49.6,11.9,259.7,78.35,3312.16,340.0,555.71,119.69999999999999,195.18,591.92,159.8,727.6,97.6,84.0,37.98,29.700000000000003,1049.0,179.8,1099.0,699.42,29.8,776.0,570.0,722.4,1849.79,130.0,59.47,53.8,2369.8,302.84000000000003,180.0,457.69,11961.829999999998,1804.0,756.76,49.0,1847.0,244.0,127.8,493.0,2992.1,24699.19,98.75,627.0,14391.0,750.0,144.8,79.8,4700.0,45.22,39.9,180.0,1079.0,84.35,2934.7200000000003,70.0,42628.61,1552.9,196.9,41.9,161.7,193.1,201.9,6245.0,327.63,3477.7000000000003,139.0,3104.2000000000003,385.0,3472.0,560.0,998.0,188.9,149.9,1151.0,990.5999999999999,6202.91,866.0,89.0,649.95,115.0,289.7,170.8,39.8,133.0,162.7,336.0,130.69,138.60000000000002,747.0,5794.0,162.8,6897.9,1198.0,935.0,199.8,1338.64,119.96000000000001,182.48000000000002,1359.7800000000002,117.8,330.0,1315.3,24075.0,10.9,2020.73,94.98,199.0,279.79,23168.0,121.2,495.0,1489.0,696.0,199.8,909.0,214.08,360.0,6.9,198.0,75.0,2748.0,94.8,221.61999999999998,95.54,13.0,1247.8,650.0,252.9,247.8,256.39,975.0,1037.6000000000001,1426.3,202.79000000000002,2644.95,160.0,578.0,189.70000000000002,29.9,360.0,185.70000000000002,1109.5,1177.0,48.0,22.5,849.5,57.99,74.9,237.6,2005.0,432.92,848.99,148.3,159.9,35.0,494.91,199.67000000000002,186.0,89.9,570.0,79.9,318.8,2459.89,339.89,51.9,208.0,13341.57,59.8,89.99,259.6,1680.1,34.5,39.9,387.0,649.3000000000001,484.5,658.0,198.0,2867.1,2178.27,59.3,199.5],\"sizemode\":\"area\",\"sizeref\":11.841280555555556,\"symbol\":\"circle\"},\"mode\":\"markers\",\"name\":\"\",\"orientation\":\"v\",\"showlegend\":false,\"x\":[0.0,0.0,7.0,6.0,7.0,0.0,0.0,3.0,1.0,0.0,0.0,5.0,5.0,2.0,0.0,0.0,0.0,2.0,2.0,6.0,1.0,7.0,4.0,0.0,2.0,2.0,3.0,0.0,0.0,2.0,0.0,6.0,1.0,0.0,0.0,0.0,8.0,1.0,2.0,5.0,0.0,0.0,0.0,1.0,11.0,0.0,0.0,3.0,3.0,0.0,0.0,7.0,4.0,1.0,4.0,6.0,2.0,1.0,3.0,3.0,0.0,1.0,2.0,0.0,0.0,0.0,0.0,7.0,1.0,4.0,0.0,5.0,2.0,0.0,0.0,8.0,4.0,0.0,8.0,2.0,3.0,0.0,7.0,0.0,2.0,0.0,0.0,0.0,0.0,4.0,2.0,10.0,1.0,0.0,1.0,0.0,6.0,2.0,5.0,0.0,2.0,0.0,2.0,0.0,2.0,15.0,11.0,1.0,1.0,2.0,0.0,1.0,3.0,6.0,7.0,0.0,0.0,0.0,15.0,0.0,12.0,4.0,0.0,5.0,6.0,1.0,8.0,0.0,3.0,0.0,17.0,0.0,7.0,0.0,0.0,0.0,2.0,0.0,2.0,0.0,0.0,16.0,0.0,1.0,3.0,4.0,0.0,0.0,6.0,1.0,4.0,0.0,0.0,2.0,0.0,6.0,3.0,2.0,1.0,0.0,0.0,0.0,0.0,0.0,0.0,7.0,3.0,3.0,14.0,0.0,0.0,3.0,0.0,0.0,0.0,0.0,0.0,1.0,5.0,2.0,6.0,4.0,7.0,0.0,0.0,0.0,2.0,7.0,0.0,2.0,6.0,4.0,1.0,0.0,7.0,7.0,0.0,1.0],\"xaxis\":\"x\",\"y\":[35.314861111111114,10.39494212962963,22.93613522376543,13.50111689814815,19.68345833333333,34.95599537037037,20.768761574074073,28.20550925925926,40.11726851851852,3.2347337962962963,21.88304398148148,11.425807461873637,19.269425154320988,8.132112268518519,33.1228587962963,21.939131944444444,13.295810185185186,13.436047453703704,14.629606481481481,49.224266203703706,9.644796006944444,11.88611239711934,33.66361689814815,7.22974537037037,52.582190393518516,9.651765046296296,10.648128858024693,5.8790914351851855,25.36692901234568,9.102488425925927,16.56861111111111,8.628703703703703,7.73574363425926,21.226134259259258,14.144814814814815,13.061111111111112,12.30955825617284,19.841226851851854,11.796643518518518,22.54623148148148,14.64236111111111,53.34842592592592,5.066215277777777,8.85844135802469,14.713342978395062,6.158113425925926,25.347723765432097,11.528446759259259,17.46901620370371,25.40222800925926,6.361909722222222,7.031435185185185,14.027887731481481,44.565300925925925,14.242025462962962,12.996622023809524,23.403023313492067,8.043780864197531,39.61394675925926,26.407038966049384,12.314270833333333,23.00158564814815,12.421550925925926,33.83170138888889,59.22667824074074,13.50712962962963,37.03043981481481,18.03236400462963,21.56864197530864,20.691591435185185,17.079074074074075,17.97467686595225,15.342019675925926,22.51039351851852,11.03644675925926,51.49710648148148,15.132824074074074,21.42582175925926,10.070645833333334,22.573813657407406,38.01493055555555,10.483483796296296,19.985843621399177,12.295746527777778,16.915497685185183,21.719467592592594,24.12673611111111,12.66162037037037,35.493993055555556,6.682824074074074,6.657034143518518,18.389999390838206,14.754149305555556,32.77846064814815,16.233270833333332,31.544166666666666,10.663962962962964,11.198726851851852,2.154710648148148,10.748113425925926,8.833802083333333,47.10233796296296,11.561912615740741,1.9462268518518517,22.529178240740745,25.812436342592598,13.929652777777777,18.740069444444444,16.186406249999997,10.025785383597883,39.73696759259259,35.133161168981474,42.059888117283954,20.48904513888889,9.652709780092593,19.298738425925926,11.495,17.37599537037037,17.175111111111114,32.62399305555556,19.070086553945256,11.212523148148149,16.289837962962963,7.158981481481481,14.77563175154321,42.1159056712963,14.799812499999998,33.21452546296296,34.307094907407404,16.483385416666668,21.206091617933726,6.10394675925926,16.972858796296297,6.255381944444444,30.358559027777776,11.811469907407407,14.03383101851852,12.403761574074075,7.046665013227513,21.39116898148148,4.7878125,21.20098636831276,9.573449074074073,6.199189814814815,8.111898148148148,25.07654861111111,86.00116898148148,25.722860725308646,12.496232638888888,22.54966049382716,13.565163323045267,13.800219907407408,24.899224537037036,4.259791666666667,10.80730324074074,13.318443287037038,15.516493055555555,8.770837962962963,47.8408024691358,10.955590277777778,8.033923611111112,26.114687499999995,7.138460648148148,6.0855902777777775,30.294270833333332,13.084930555555555,5.102037037037037,17.37723090277778,17.311448206018518,13.430914351851852,6.339652777777777,15.36813014403292,11.67219135802469,14.27412037037037,24.920844907407407,22.617453703703703,45.16071759259259,8.655138888888889,30.38007407407407,17.78358796296296,39.27744212962963,9.107554976851851,15.028811242344709,13.019328703703703,37.079166666666666,33.85025462962963,15.188487654320987,26.52927083333333,189.86315972222224,10.291921296296296,16.36822255291005,29.121037037037034,9.31943287037037,68.62114583333333,15.676087962962963,20.652399691358024,18.27550925925926,3.97537037037037],\"yaxis\":\"y\",\"type\":\"scatter\"}],                        {\"template\":{\"data\":{\"histogram2dcontour\":[{\"type\":\"histogram2dcontour\",\"colorbar\":{\"outlinewidth\":0,\"ticks\":\"\"},\"colorscale\":[[0.0,\"#0d0887\"],[0.1111111111111111,\"#46039f\"],[0.2222222222222222,\"#7201a8\"],[0.3333333333333333,\"#9c179e\"],[0.4444444444444444,\"#bd3786\"],[0.5555555555555556,\"#d8576b\"],[0.6666666666666666,\"#ed7953\"],[0.7777777777777778,\"#fb9f3a\"],[0.8888888888888888,\"#fdca26\"],[1.0,\"#f0f921\"]]}],\"choropleth\":[{\"type\":\"choropleth\",\"colorbar\":{\"outlinewidth\":0,\"ticks\":\"\"}}],\"histogram2d\":[{\"type\":\"histogram2d\",\"colorbar\":{\"outlinewidth\":0,\"ticks\":\"\"},\"colorscale\":[[0.0,\"#0d0887\"],[0.1111111111111111,\"#46039f\"],[0.2222222222222222,\"#7201a8\"],[0.3333333333333333,\"#9c179e\"],[0.4444444444444444,\"#bd3786\"],[0.5555555555555556,\"#d8576b\"],[0.6666666666666666,\"#ed7953\"],[0.7777777777777778,\"#fb9f3a\"],[0.8888888888888888,\"#fdca26\"],[1.0,\"#f0f921\"]]}],\"heatmap\":[{\"type\":\"heatmap\",\"colorbar\":{\"outlinewidth\":0,\"ticks\":\"\"},\"colorscale\":[[0.0,\"#0d0887\"],[0.1111111111111111,\"#46039f\"],[0.2222222222222222,\"#7201a8\"],[0.3333333333333333,\"#9c179e\"],[0.4444444444444444,\"#bd3786\"],[0.5555555555555556,\"#d8576b\"],[0.6666666666666666,\"#ed7953\"],[0.7777777777777778,\"#fb9f3a\"],[0.8888888888888888,\"#fdca26\"],[1.0,\"#f0f921\"]]}],\"heatmapgl\":[{\"type\":\"heatmapgl\",\"colorbar\":{\"outlinewidth\":0,\"ticks\":\"\"},\"colorscale\":[[0.0,\"#0d0887\"],[0.1111111111111111,\"#46039f\"],[0.2222222222222222,\"#7201a8\"],[0.3333333333333333,\"#9c179e\"],[0.4444444444444444,\"#bd3786\"],[0.5555555555555556,\"#d8576b\"],[0.6666666666666666,\"#ed7953\"],[0.7777777777777778,\"#fb9f3a\"],[0.8888888888888888,\"#fdca26\"],[1.0,\"#f0f921\"]]}],\"contourcarpet\":[{\"type\":\"contourcarpet\",\"colorbar\":{\"outlinewidth\":0,\"ticks\":\"\"}}],\"contour\":[{\"type\":\"contour\",\"colorbar\":{\"outlinewidth\":0,\"ticks\":\"\"},\"colorscale\":[[0.0,\"#0d0887\"],[0.1111111111111111,\"#46039f\"],[0.2222222222222222,\"#7201a8\"],[0.3333333333333333,\"#9c179e\"],[0.4444444444444444,\"#bd3786\"],[0.5555555555555556,\"#d8576b\"],[0.6666666666666666,\"#ed7953\"],[0.7777777777777778,\"#fb9f3a\"],[0.8888888888888888,\"#fdca26\"],[1.0,\"#f0f921\"]]}],\"surface\":[{\"type\":\"surface\",\"colorbar\":{\"outlinewidth\":0,\"ticks\":\"\"},\"colorscale\":[[0.0,\"#0d0887\"],[0.1111111111111111,\"#46039f\"],[0.2222222222222222,\"#7201a8\"],[0.3333333333333333,\"#9c179e\"],[0.4444444444444444,\"#bd3786\"],[0.5555555555555556,\"#d8576b\"],[0.6666666666666666,\"#ed7953\"],[0.7777777777777778,\"#fb9f3a\"],[0.8888888888888888,\"#fdca26\"],[1.0,\"#f0f921\"]]}],\"mesh3d\":[{\"type\":\"mesh3d\",\"colorbar\":{\"outlinewidth\":0,\"ticks\":\"\"}}],\"scatter\":[{\"fillpattern\":{\"fillmode\":\"overlay\",\"size\":10,\"solidity\":0.2},\"type\":\"scatter\"}],\"parcoords\":[{\"type\":\"parcoords\",\"line\":{\"colorbar\":{\"outlinewidth\":0,\"ticks\":\"\"}}}],\"scatterpolargl\":[{\"type\":\"scatterpolargl\",\"marker\":{\"colorbar\":{\"outlinewidth\":0,\"ticks\":\"\"}}}],\"bar\":[{\"error_x\":{\"color\":\"#2a3f5f\"},\"error_y\":{\"color\":\"#2a3f5f\"},\"marker\":{\"line\":{\"color\":\"#E5ECF6\",\"width\":0.5},\"pattern\":{\"fillmode\":\"overlay\",\"size\":10,\"solidity\":0.2}},\"type\":\"bar\"}],\"scattergeo\":[{\"type\":\"scattergeo\",\"marker\":{\"colorbar\":{\"outlinewidth\":0,\"ticks\":\"\"}}}],\"scatterpolar\":[{\"type\":\"scatterpolar\",\"marker\":{\"colorbar\":{\"outlinewidth\":0,\"ticks\":\"\"}}}],\"histogram\":[{\"marker\":{\"pattern\":{\"fillmode\":\"overlay\",\"size\":10,\"solidity\":0.2}},\"type\":\"histogram\"}],\"scattergl\":[{\"type\":\"scattergl\",\"marker\":{\"colorbar\":{\"outlinewidth\":0,\"ticks\":\"\"}}}],\"scatter3d\":[{\"type\":\"scatter3d\",\"line\":{\"colorbar\":{\"outlinewidth\":0,\"ticks\":\"\"}},\"marker\":{\"colorbar\":{\"outlinewidth\":0,\"ticks\":\"\"}}}],\"scattermapbox\":[{\"type\":\"scattermapbox\",\"marker\":{\"colorbar\":{\"outlinewidth\":0,\"ticks\":\"\"}}}],\"scatterternary\":[{\"type\":\"scatterternary\",\"marker\":{\"colorbar\":{\"outlinewidth\":0,\"ticks\":\"\"}}}],\"scattercarpet\":[{\"type\":\"scattercarpet\",\"marker\":{\"colorbar\":{\"outlinewidth\":0,\"ticks\":\"\"}}}],\"carpet\":[{\"aaxis\":{\"endlinecolor\":\"#2a3f5f\",\"gridcolor\":\"white\",\"linecolor\":\"white\",\"minorgridcolor\":\"white\",\"startlinecolor\":\"#2a3f5f\"},\"baxis\":{\"endlinecolor\":\"#2a3f5f\",\"gridcolor\":\"white\",\"linecolor\":\"white\",\"minorgridcolor\":\"white\",\"startlinecolor\":\"#2a3f5f\"},\"type\":\"carpet\"}],\"table\":[{\"cells\":{\"fill\":{\"color\":\"#EBF0F8\"},\"line\":{\"color\":\"white\"}},\"header\":{\"fill\":{\"color\":\"#C8D4E3\"},\"line\":{\"color\":\"white\"}},\"type\":\"table\"}],\"barpolar\":[{\"marker\":{\"line\":{\"color\":\"#E5ECF6\",\"width\":0.5},\"pattern\":{\"fillmode\":\"overlay\",\"size\":10,\"solidity\":0.2}},\"type\":\"barpolar\"}],\"pie\":[{\"automargin\":true,\"type\":\"pie\"}]},\"layout\":{\"autotypenumbers\":\"strict\",\"colorway\":[\"#636efa\",\"#EF553B\",\"#00cc96\",\"#ab63fa\",\"#FFA15A\",\"#19d3f3\",\"#FF6692\",\"#B6E880\",\"#FF97FF\",\"#FECB52\"],\"font\":{\"color\":\"#2a3f5f\"},\"hovermode\":\"closest\",\"hoverlabel\":{\"align\":\"left\"},\"paper_bgcolor\":\"white\",\"plot_bgcolor\":\"#E5ECF6\",\"polar\":{\"bgcolor\":\"#E5ECF6\",\"angularaxis\":{\"gridcolor\":\"white\",\"linecolor\":\"white\",\"ticks\":\"\"},\"radialaxis\":{\"gridcolor\":\"white\",\"linecolor\":\"white\",\"ticks\":\"\"}},\"ternary\":{\"bgcolor\":\"#E5ECF6\",\"aaxis\":{\"gridcolor\":\"white\",\"linecolor\":\"white\",\"ticks\":\"\"},\"baxis\":{\"gridcolor\":\"white\",\"linecolor\":\"white\",\"ticks\":\"\"},\"caxis\":{\"gridcolor\":\"white\",\"linecolor\":\"white\",\"ticks\":\"\"}},\"coloraxis\":{\"colorbar\":{\"outlinewidth\":0,\"ticks\":\"\"}},\"colorscale\":{\"sequential\":[[0.0,\"#0d0887\"],[0.1111111111111111,\"#46039f\"],[0.2222222222222222,\"#7201a8\"],[0.3333333333333333,\"#9c179e\"],[0.4444444444444444,\"#bd3786\"],[0.5555555555555556,\"#d8576b\"],[0.6666666666666666,\"#ed7953\"],[0.7777777777777778,\"#fb9f3a\"],[0.8888888888888888,\"#fdca26\"],[1.0,\"#f0f921\"]],\"sequentialminus\":[[0.0,\"#0d0887\"],[0.1111111111111111,\"#46039f\"],[0.2222222222222222,\"#7201a8\"],[0.3333333333333333,\"#9c179e\"],[0.4444444444444444,\"#bd3786\"],[0.5555555555555556,\"#d8576b\"],[0.6666666666666666,\"#ed7953\"],[0.7777777777777778,\"#fb9f3a\"],[0.8888888888888888,\"#fdca26\"],[1.0,\"#f0f921\"]],\"diverging\":[[0,\"#8e0152\"],[0.1,\"#c51b7d\"],[0.2,\"#de77ae\"],[0.3,\"#f1b6da\"],[0.4,\"#fde0ef\"],[0.5,\"#f7f7f7\"],[0.6,\"#e6f5d0\"],[0.7,\"#b8e186\"],[0.8,\"#7fbc41\"],[0.9,\"#4d9221\"],[1,\"#276419\"]]},\"xaxis\":{\"gridcolor\":\"white\",\"linecolor\":\"white\",\"ticks\":\"\",\"title\":{\"standoff\":15},\"zerolinecolor\":\"white\",\"automargin\":true,\"zerolinewidth\":2},\"yaxis\":{\"gridcolor\":\"white\",\"linecolor\":\"white\",\"ticks\":\"\",\"title\":{\"standoff\":15},\"zerolinecolor\":\"white\",\"automargin\":true,\"zerolinewidth\":2},\"scene\":{\"xaxis\":{\"backgroundcolor\":\"#E5ECF6\",\"gridcolor\":\"white\",\"linecolor\":\"white\",\"showbackground\":true,\"ticks\":\"\",\"zerolinecolor\":\"white\",\"gridwidth\":2},\"yaxis\":{\"backgroundcolor\":\"#E5ECF6\",\"gridcolor\":\"white\",\"linecolor\":\"white\",\"showbackground\":true,\"ticks\":\"\",\"zerolinecolor\":\"white\",\"gridwidth\":2},\"zaxis\":{\"backgroundcolor\":\"#E5ECF6\",\"gridcolor\":\"white\",\"linecolor\":\"white\",\"showbackground\":true,\"ticks\":\"\",\"zerolinecolor\":\"white\",\"gridwidth\":2}},\"shapedefaults\":{\"line\":{\"color\":\"#2a3f5f\"}},\"annotationdefaults\":{\"arrowcolor\":\"#2a3f5f\",\"arrowhead\":0,\"arrowwidth\":1},\"geo\":{\"bgcolor\":\"white\",\"landcolor\":\"#E5ECF6\",\"subunitcolor\":\"white\",\"showland\":true,\"showlakes\":true,\"lakecolor\":\"white\"},\"title\":{\"x\":0.05},\"mapbox\":{\"style\":\"light\"}}},\"xaxis\":{\"anchor\":\"y\",\"domain\":[0.0,1.0],\"title\":{\"text\":\"months_on_olist\"}},\"yaxis\":{\"anchor\":\"x\",\"domain\":[0.0,1.0],\"title\":{\"text\":\"wait_time\"}},\"coloraxis\":{\"colorbar\":{\"title\":{\"text\":\"review_score\"}},\"colorscale\":[[0.0,\"#0d0887\"],[0.1111111111111111,\"#46039f\"],[0.2222222222222222,\"#7201a8\"],[0.3333333333333333,\"#9c179e\"],[0.4444444444444444,\"#bd3786\"],[0.5555555555555556,\"#d8576b\"],[0.6666666666666666,\"#ed7953\"],[0.7777777777777778,\"#fb9f3a\"],[0.8888888888888888,\"#fdca26\"],[1.0,\"#f0f921\"]]},\"legend\":{\"tracegroupgap\":0,\"itemsizing\":\"constant\"},\"margin\":{\"t\":60}},                        {\"responsive\": true}                    ).then(function(){\n",
       "                            \n",
       "var gd = document.getElementById('c13cc52e-6b72-4e6f-8f83-570abd6ef6ae');\n",
       "var x = new MutationObserver(function (mutations, observer) {{\n",
       "        var display = window.getComputedStyle(gd).display;\n",
       "        if (!display || display === 'none') {{\n",
       "            console.log([gd, 'removed!']);\n",
       "            Plotly.purge(gd);\n",
       "            observer.disconnect();\n",
       "        }}\n",
       "}});\n",
       "\n",
       "// Listen for the removal of the full notebook cells\n",
       "var notebookContainer = gd.closest('#notebook-container');\n",
       "if (notebookContainer) {{\n",
       "    x.observe(notebookContainer, {childList: true});\n",
       "}}\n",
       "\n",
       "// Listen for the clearing of the current output cell\n",
       "var outputEl = gd.closest('.output');\n",
       "if (outputEl) {{\n",
       "    x.observe(outputEl, {childList: true});\n",
       "}}\n",
       "\n",
       "                        })                };                });            </script>        </div>"
      ]
     },
     "metadata": {},
     "output_type": "display_data"
    }
   ],
   "source": [
    "plotly.offline.init_notebook_mode(connected=True)\n",
    "fig = px.scatter(data_frame = sellers[sellers['review_score'] < 3],\n",
    "    x=\"months_on_olist\",\n",
    "    y=\"wait_time\",\n",
    "    size=\"sales\",\n",
    "    color=\"review_score\",\n",
    "    size_max = 60,\n",
    "    opacity = 0.5\n",
    ")\n",
    "fig.show()"
   ]
  },
  {
   "cell_type": "markdown",
   "id": "f0378a6c",
   "metadata": {},
   "source": [
    "**Takeaway** - sellers who are at the early stages of being with Olist are contributing most to a high wait time and a low review score."
   ]
  },
  {
   "cell_type": "markdown",
   "id": "5b3810f7",
   "metadata": {},
   "source": [
    "**Potential suggestion** would be instead of removing non-profitable sellers, one idea could be to review the onboarding and selection process."
   ]
  }
 ],
 "metadata": {
  "kernelspec": {
   "display_name": "Python 3 (ipykernel)",
   "language": "python",
   "name": "python3"
  },
  "language_info": {
   "codemirror_mode": {
    "name": "ipython",
    "version": 3
   },
   "file_extension": ".py",
   "mimetype": "text/x-python",
   "name": "python",
   "nbconvert_exporter": "python",
   "pygments_lexer": "ipython3",
   "version": "3.10.6"
  },
  "toc": {
   "base_numbering": 1,
   "nav_menu": {},
   "number_sections": true,
   "sideBar": true,
   "skip_h1_title": false,
   "title_cell": "Table of Contents",
   "title_sidebar": "Contents",
   "toc_cell": false,
   "toc_position": {},
   "toc_section_display": true,
   "toc_window_display": false
  }
 },
 "nbformat": 4,
 "nbformat_minor": 5
}
